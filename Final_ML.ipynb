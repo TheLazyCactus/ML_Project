{
  "cells": [
    {
      "cell_type": "markdown",
      "metadata": {
        "id": "view-in-github",
        "colab_type": "text"
      },
      "source": [
        "<a href=\"https://colab.research.google.com/github/TheLazyCactus/ML_Project/blob/main/Final_ML.ipynb\" target=\"_parent\"><img src=\"https://colab.research.google.com/assets/colab-badge.svg\" alt=\"Open In Colab\"/></a>"
      ]
    },
    {
      "cell_type": "code",
      "execution_count": null,
      "metadata": {
        "id": "voeqRFBoNLQD"
      },
      "outputs": [],
      "source": [
        "import pandas as pd\n",
        "import numpy as np\n",
        "from sklearn.model_selection import train_test_split\n",
        "from sklearn.tree import DecisionTreeRegressor\n",
        "from sklearn.ensemble import BaggingRegressor, RandomForestRegressor,AdaBoostRegressor, GradientBoostingRegressor\n",
        "\n",
        "from sklearn.preprocessing import MinMaxScaler, StandardScaler\n",
        "from sklearn.metrics import r2_score, mean_absolute_error, mean_squared_error\n",
        "\n",
        "#url = 'https://raw.githubusercontent.com/TheLazyCactus/ML_Project/refs/heads/main/Extra_data.csv'\n",
        "#df = pd.read_csv(url, sep=\";\", low_memory =False)\n",
        "\n",
        "url = 'https://raw.githubusercontent.com/TheLazyCactus/ML_Project/refs/heads/main/ML_Project_safety.csv'\n",
        "df = pd.read_csv(url, sep=\";\", low_memory =False)"
      ]
    },
    {
      "cell_type": "markdown",
      "metadata": {
        "id": "Ske-CwtBNLQG"
      },
      "source": [
        "Need to change the order to get the oldest value first"
      ]
    },
    {
      "cell_type": "code",
      "execution_count": null,
      "metadata": {
        "id": "3igkKcH3NLQH",
        "outputId": "902b80eb-c8fc-49e2-e0ef-233e2ddb909f"
      },
      "outputs": [
        {
          "data": {
            "text/html": [
              "<div>\n",
              "<style scoped>\n",
              "    .dataframe tbody tr th:only-of-type {\n",
              "        vertical-align: middle;\n",
              "    }\n",
              "\n",
              "    .dataframe tbody tr th {\n",
              "        vertical-align: top;\n",
              "    }\n",
              "\n",
              "    .dataframe thead th {\n",
              "        text-align: right;\n",
              "    }\n",
              "</style>\n",
              "<table border=\"1\" class=\"dataframe\">\n",
              "  <thead>\n",
              "    <tr style=\"text-align: right;\">\n",
              "      <th></th>\n",
              "      <th>Year</th>\n",
              "      <th>Company code</th>\n",
              "      <th>FAR total</th>\n",
              "      <th>TRIR total</th>\n",
              "      <th>TRIR company only</th>\n",
              "      <th>TRIR contractor only</th>\n",
              "      <th>LTIR total</th>\n",
              "      <th>LTIR company only</th>\n",
              "      <th>LTIR contractor only</th>\n",
              "    </tr>\n",
              "  </thead>\n",
              "  <tbody>\n",
              "    <tr>\n",
              "      <th>486</th>\n",
              "      <td>2014</td>\n",
              "      <td>ZZ</td>\n",
              "      <td>0</td>\n",
              "      <td>3,61</td>\n",
              "      <td>0</td>\n",
              "      <td>5,43</td>\n",
              "      <td>0</td>\n",
              "      <td>0</td>\n",
              "      <td>0</td>\n",
              "    </tr>\n",
              "    <tr>\n",
              "      <th>456</th>\n",
              "      <td>2014</td>\n",
              "      <td>W</td>\n",
              "      <td>2,6</td>\n",
              "      <td>NaN</td>\n",
              "      <td>NaN</td>\n",
              "      <td>NaN</td>\n",
              "      <td>0,37</td>\n",
              "      <td>0,37</td>\n",
              "      <td>0,37</td>\n",
              "    </tr>\n",
              "    <tr>\n",
              "      <th>455</th>\n",
              "      <td>2014</td>\n",
              "      <td>V</td>\n",
              "      <td>0</td>\n",
              "      <td>1,41</td>\n",
              "      <td>0,54</td>\n",
              "      <td>1,65</td>\n",
              "      <td>0,39</td>\n",
              "      <td>0,11</td>\n",
              "      <td>0,47</td>\n",
              "    </tr>\n",
              "    <tr>\n",
              "      <th>454</th>\n",
              "      <td>2014</td>\n",
              "      <td>U</td>\n",
              "      <td>7,03</td>\n",
              "      <td>1,97</td>\n",
              "      <td>1,21</td>\n",
              "      <td>2,2</td>\n",
              "      <td>0,49</td>\n",
              "      <td>0,61</td>\n",
              "      <td>0,46</td>\n",
              "    </tr>\n",
              "    <tr>\n",
              "      <th>453</th>\n",
              "      <td>2014</td>\n",
              "      <td>T</td>\n",
              "      <td>0</td>\n",
              "      <td>4,47</td>\n",
              "      <td>2,57</td>\n",
              "      <td>6,24</td>\n",
              "      <td>0,5</td>\n",
              "      <td>0,51</td>\n",
              "      <td>0,48</td>\n",
              "    </tr>\n",
              "    <tr>\n",
              "      <th>...</th>\n",
              "      <td>...</td>\n",
              "      <td>...</td>\n",
              "      <td>...</td>\n",
              "      <td>...</td>\n",
              "      <td>...</td>\n",
              "      <td>...</td>\n",
              "      <td>...</td>\n",
              "      <td>...</td>\n",
              "      <td>...</td>\n",
              "    </tr>\n",
              "    <tr>\n",
              "      <th>31</th>\n",
              "      <td>2023</td>\n",
              "      <td>GG</td>\n",
              "      <td>1,06</td>\n",
              "      <td>0,38</td>\n",
              "      <td>0,8</td>\n",
              "      <td>0,32</td>\n",
              "      <td>0,18</td>\n",
              "      <td>0,51</td>\n",
              "      <td>0,13</td>\n",
              "    </tr>\n",
              "    <tr>\n",
              "      <th>30</th>\n",
              "      <td>2023</td>\n",
              "      <td>FF</td>\n",
              "      <td>1,34</td>\n",
              "      <td>0,98</td>\n",
              "      <td>0,75</td>\n",
              "      <td>1,07</td>\n",
              "      <td>0,18</td>\n",
              "      <td>0,15</td>\n",
              "      <td>0,19</td>\n",
              "    </tr>\n",
              "    <tr>\n",
              "      <th>29</th>\n",
              "      <td>2023</td>\n",
              "      <td>EE</td>\n",
              "      <td>0</td>\n",
              "      <td>0,46</td>\n",
              "      <td>0,33</td>\n",
              "      <td>0,51</td>\n",
              "      <td>0,18</td>\n",
              "      <td>0,33</td>\n",
              "      <td>0,13</td>\n",
              "    </tr>\n",
              "    <tr>\n",
              "      <th>27</th>\n",
              "      <td>2023</td>\n",
              "      <td>CC</td>\n",
              "      <td>0</td>\n",
              "      <td>0,2</td>\n",
              "      <td>0</td>\n",
              "      <td>0,24</td>\n",
              "      <td>0,2</td>\n",
              "      <td>0</td>\n",
              "      <td>0,24</td>\n",
              "    </tr>\n",
              "    <tr>\n",
              "      <th>0</th>\n",
              "      <td>2023</td>\n",
              "      <td>A</td>\n",
              "      <td>93,56</td>\n",
              "      <td>2,57</td>\n",
              "      <td>2,74</td>\n",
              "      <td>2,42</td>\n",
              "      <td>2,22</td>\n",
              "      <td>2,24</td>\n",
              "      <td>2,2</td>\n",
              "    </tr>\n",
              "  </tbody>\n",
              "</table>\n",
              "<p>487 rows × 9 columns</p>\n",
              "</div>"
            ],
            "text/plain": [
              "     Year Company code FAR total TRIR total TRIR company only  \\\n",
              "486  2014   ZZ                 0       3,61                 0   \n",
              "456  2014   W                2,6        NaN               NaN   \n",
              "455  2014   V                  0       1,41              0,54   \n",
              "454  2014   U               7,03       1,97              1,21   \n",
              "453  2014   T                  0       4,47              2,57   \n",
              "..    ...          ...       ...        ...               ...   \n",
              "31   2023   GG              1,06       0,38               0,8   \n",
              "30   2023   FF              1,34       0,98              0,75   \n",
              "29   2023   EE                 0       0,46              0,33   \n",
              "27   2023   CC                 0        0,2                 0   \n",
              "0    2023   A              93,56       2,57              2,74   \n",
              "\n",
              "    TRIR contractor only LTIR total LTIR company only LTIR contractor only  \n",
              "486                 5,43          0                 0                    0  \n",
              "456                  NaN       0,37              0,37                 0,37  \n",
              "455                 1,65       0,39              0,11                 0,47  \n",
              "454                  2,2       0,49              0,61                 0,46  \n",
              "453                 6,24        0,5              0,51                 0,48  \n",
              "..                   ...        ...               ...                  ...  \n",
              "31                  0,32       0,18              0,51                 0,13  \n",
              "30                  1,07       0,18              0,15                 0,19  \n",
              "29                  0,51       0,18              0,33                 0,13  \n",
              "27                  0,24        0,2                 0                 0,24  \n",
              "0                   2,42       2,22              2,24                  2,2  \n",
              "\n",
              "[487 rows x 9 columns]"
            ]
          },
          "execution_count": 30,
          "metadata": {},
          "output_type": "execute_result"
        }
      ],
      "source": [
        "df"
      ]
    },
    {
      "cell_type": "code",
      "execution_count": null,
      "metadata": {
        "id": "DQ7Sq_ikNLQI"
      },
      "outputs": [],
      "source": [
        "df = df.sort_values(by=\"Year\", ascending=True)\n",
        "#Drop FAR\n",
        "df.drop(\"FAR total\", axis = 1, inplace=True)\n",
        "\n",
        "cols = [\"TRIR total\", \"TRIR company only\", \"TRIR contractor only\", \"LTIR total\", \"LTIR company only\", \"LTIR contractor only\" ]  # List of columns to convert\n",
        "df[cols] = df[cols].replace(',', '.', regex=True).astype(float)\n",
        "\n",
        "df[cols] = df[cols].astype(float)\n",
        "\n",
        "df = df.fillna(0)\n",
        "\n",
        "original_df = df"
      ]
    },
    {
      "cell_type": "markdown",
      "metadata": {
        "id": "KSdtTvixNLQJ"
      },
      "source": [
        "**EDA**"
      ]
    },
    {
      "cell_type": "code",
      "execution_count": null,
      "metadata": {
        "id": "SXXq1EQvNLQJ",
        "outputId": "6d12fa65-844a-4532-ee27-a37d4f3bb880"
      },
      "outputs": [
        {
          "name": "stdout",
          "output_type": "stream",
          "text": [
            "(487, 8)\n",
            "Index(['Year', 'Company code', 'TRIR total', 'TRIR company only',\n",
            "       'TRIR contractor only', 'LTIR total', 'LTIR company only',\n",
            "       'LTIR contractor only'],\n",
            "      dtype='object')\n",
            "Year                      int64\n",
            "Company code             object\n",
            "TRIR total              float64\n",
            "TRIR company only       float64\n",
            "TRIR contractor only    float64\n",
            "LTIR total              float64\n",
            "LTIR company only       float64\n",
            "LTIR contractor only    float64\n",
            "dtype: object\n",
            "Year                     10\n",
            "Company code             59\n",
            "TRIR total              247\n",
            "TRIR company only       188\n",
            "TRIR contractor only    279\n",
            "LTIR total              121\n",
            "LTIR company only       105\n",
            "LTIR contractor only    138\n",
            "dtype: int64\n",
            "Year                    0\n",
            "Company code            0\n",
            "TRIR total              0\n",
            "TRIR company only       0\n",
            "TRIR contractor only    0\n",
            "LTIR total              0\n",
            "LTIR company only       0\n",
            "LTIR contractor only    0\n",
            "dtype: int64\n"
          ]
        }
      ],
      "source": [
        "print(df.shape)\n",
        "print(df.columns)\n",
        "print(df.dtypes)\n",
        "print(df.nunique())\n",
        "print(df.isna().sum())"
      ]
    },
    {
      "cell_type": "code",
      "execution_count": null,
      "metadata": {
        "id": "vcxlPdT7NLQK"
      },
      "outputs": [],
      "source": [
        "df_total = df[[\"Year\", \"Company code\", \"TRIR total\", \"LTIR total\"]]\n",
        "df_company = df[[\"Year\", \"Company code\", \"TRIR company only\", \"LTIR company only\"]]\n",
        "df_contractor = df[[\"Year\", \"Company code\", \"TRIR contractor only\", \"LTIR contractor only\"]]"
      ]
    },
    {
      "cell_type": "markdown",
      "metadata": {
        "id": "w-RfgUQ0NLQL"
      },
      "source": [
        "**Time Serie for TRIR**"
      ]
    },
    {
      "cell_type": "markdown",
      "metadata": {
        "id": "Ih_L1Z9iNLQL"
      },
      "source": [
        "*ARIMA*"
      ]
    },
    {
      "cell_type": "code",
      "execution_count": null,
      "metadata": {
        "id": "_iUpzWKRNLQL",
        "outputId": "58fc9331-bea3-48ab-ac20-9d6fa438384f"
      },
      "outputs": [
        {
          "name": "stderr",
          "output_type": "stream",
          "text": [
            "  WARNING: The scripts cygdb.exe, cython.exe and cythonize.exe are installed in 'd:\\Data_analyst\\Ironhack\\Anaconda\\Scripts' which is not on PATH.\n",
            "  Consider adding this directory to PATH or, if you prefer to suppress this warning, use --no-warn-script-location.\n"
          ]
        },
        {
          "name": "stdout",
          "output_type": "stream",
          "text": [
            "Collecting pmdarima\n",
            "  Downloading pmdarima-2.0.4-cp312-cp312-win_amd64.whl.metadata (8.0 kB)\n",
            "Requirement already satisfied: joblib>=0.11 in d:\\data_analyst\\ironhack\\anaconda\\lib\\site-packages (from pmdarima) (1.4.2)\n",
            "Collecting Cython!=0.29.18,!=0.29.31,>=0.29 (from pmdarima)\n",
            "  Downloading Cython-3.0.12-cp312-cp312-win_amd64.whl.metadata (3.6 kB)\n",
            "Requirement already satisfied: numpy>=1.21.2 in d:\\data_analyst\\ironhack\\anaconda\\lib\\site-packages (from pmdarima) (1.26.4)\n",
            "Requirement already satisfied: pandas>=0.19 in d:\\data_analyst\\ironhack\\anaconda\\lib\\site-packages (from pmdarima) (2.2.2)\n",
            "Requirement already satisfied: scikit-learn>=0.22 in d:\\data_analyst\\ironhack\\anaconda\\lib\\site-packages (from pmdarima) (1.4.2)\n",
            "Requirement already satisfied: scipy>=1.3.2 in d:\\data_analyst\\ironhack\\anaconda\\lib\\site-packages (from pmdarima) (1.13.1)\n",
            "Requirement already satisfied: statsmodels>=0.13.2 in d:\\data_analyst\\ironhack\\anaconda\\lib\\site-packages (from pmdarima) (0.14.2)\n",
            "Requirement already satisfied: urllib3 in d:\\data_analyst\\ironhack\\anaconda\\lib\\site-packages (from pmdarima) (2.2.2)\n",
            "Requirement already satisfied: setuptools!=50.0.0,>=38.6.0 in d:\\data_analyst\\ironhack\\anaconda\\lib\\site-packages (from pmdarima) (69.5.1)\n",
            "Requirement already satisfied: packaging>=17.1 in d:\\data_analyst\\ironhack\\anaconda\\lib\\site-packages (from pmdarima) (23.2)\n",
            "Requirement already satisfied: python-dateutil>=2.8.2 in d:\\data_analyst\\ironhack\\anaconda\\lib\\site-packages (from pandas>=0.19->pmdarima) (2.9.0.post0)\n",
            "Requirement already satisfied: pytz>=2020.1 in d:\\data_analyst\\ironhack\\anaconda\\lib\\site-packages (from pandas>=0.19->pmdarima) (2024.1)\n",
            "Requirement already satisfied: tzdata>=2022.7 in d:\\data_analyst\\ironhack\\anaconda\\lib\\site-packages (from pandas>=0.19->pmdarima) (2023.3)\n",
            "Requirement already satisfied: threadpoolctl>=2.0.0 in d:\\data_analyst\\ironhack\\anaconda\\lib\\site-packages (from scikit-learn>=0.22->pmdarima) (2.2.0)\n",
            "Requirement already satisfied: patsy>=0.5.6 in d:\\data_analyst\\ironhack\\anaconda\\lib\\site-packages (from statsmodels>=0.13.2->pmdarima) (0.5.6)\n",
            "Requirement already satisfied: six in d:\\data_analyst\\ironhack\\anaconda\\lib\\site-packages (from patsy>=0.5.6->statsmodels>=0.13.2->pmdarima) (1.16.0)\n",
            "Downloading pmdarima-2.0.4-cp312-cp312-win_amd64.whl (625 kB)\n",
            "   ---------------------------------------- 0.0/625.1 kB ? eta -:--:--\n",
            "    --------------------------------------- 10.2/625.1 kB ? eta -:--:--\n",
            "   -- ------------------------------------ 41.0/625.1 kB 653.6 kB/s eta 0:00:01\n",
            "   ------------- -------------------------- 204.8/625.1 kB 1.8 MB/s eta 0:00:01\n",
            "   -------------------------------- ------- 501.8/625.1 kB 3.2 MB/s eta 0:00:01\n",
            "   ---------------------------------------- 625.1/625.1 kB 3.6 MB/s eta 0:00:00\n",
            "Downloading Cython-3.0.12-cp312-cp312-win_amd64.whl (2.8 MB)\n",
            "   ---------------------------------------- 0.0/2.8 MB ? eta -:--:--\n",
            "   ----- ---------------------------------- 0.4/2.8 MB 12.6 MB/s eta 0:00:01\n",
            "   ------------ --------------------------- 0.8/2.8 MB 10.6 MB/s eta 0:00:01\n",
            "   ------------------- -------------------- 1.3/2.8 MB 10.6 MB/s eta 0:00:01\n",
            "   ------------------------- -------------- 1.8/2.8 MB 10.5 MB/s eta 0:00:01\n",
            "   ------------------------------- -------- 2.2/2.8 MB 10.8 MB/s eta 0:00:01\n",
            "   -------------------------------------- - 2.7/2.8 MB 10.7 MB/s eta 0:00:01\n",
            "   ---------------------------------------- 2.8/2.8 MB 9.4 MB/s eta 0:00:00\n",
            "Installing collected packages: Cython, pmdarima\n",
            "Successfully installed Cython-3.0.12 pmdarima-2.0.4\n",
            "Note: you may need to restart the kernel to use updated packages.\n"
          ]
        },
        {
          "name": "stderr",
          "output_type": "stream",
          "text": [
            "  WARNING: The scripts cygdb.exe, cython.exe and cythonize.exe are installed in 'd:\\Data_analyst\\Ironhack\\Anaconda\\Scripts' which is not on PATH.\n",
            "  Consider adding this directory to PATH or, if you prefer to suppress this warning, use --no-warn-script-location.\n"
          ]
        }
      ],
      "source": [
        "pip install pmdarima --quiet"
      ]
    },
    {
      "cell_type": "code",
      "execution_count": null,
      "metadata": {
        "id": "tNUX3EVlNLQM"
      },
      "outputs": [],
      "source": [
        "company_counts = df_total.groupby(\"Company code\")[\"Year\"].count()\n",
        "# Get companies with 5 or more rows\n",
        "valid_companies = company_counts[company_counts >= 5].index\n",
        "\n",
        "# Filter the original DataFrame to keep only those companies\n",
        "df_total_filtered = df_total[df_total[\"Company code\"].isin(valid_companies)]\n",
        "df_total_filtered = df_total_filtered.set_index(\"Year\")\n",
        "original_df = df_total_filtered"
      ]
    },
    {
      "cell_type": "code",
      "source": [
        "column_list = df_total_filtered[\"Company code\"]"
      ],
      "metadata": {
        "id": "J35NZ2XP6bDt"
      },
      "execution_count": null,
      "outputs": []
    },
    {
      "cell_type": "code",
      "execution_count": null,
      "metadata": {
        "id": "JHqTICpVNLQN",
        "outputId": "c357b81f-4e08-4c5b-ad44-f036ba76b010"
      },
      "outputs": [
        {
          "data": {
            "text/html": [
              "<div>\n",
              "<style scoped>\n",
              "    .dataframe tbody tr th:only-of-type {\n",
              "        vertical-align: middle;\n",
              "    }\n",
              "\n",
              "    .dataframe tbody tr th {\n",
              "        vertical-align: top;\n",
              "    }\n",
              "\n",
              "    .dataframe thead th {\n",
              "        text-align: right;\n",
              "    }\n",
              "</style>\n",
              "<table border=\"1\" class=\"dataframe\">\n",
              "  <thead>\n",
              "    <tr style=\"text-align: right;\">\n",
              "      <th></th>\n",
              "      <th>Year</th>\n",
              "      <th>Company code</th>\n",
              "      <th>TRIR total</th>\n",
              "      <th>LTIR total</th>\n",
              "    </tr>\n",
              "  </thead>\n",
              "  <tbody>\n",
              "    <tr>\n",
              "      <th>456</th>\n",
              "      <td>2014</td>\n",
              "      <td>W</td>\n",
              "      <td>0.00</td>\n",
              "      <td>0.37</td>\n",
              "    </tr>\n",
              "    <tr>\n",
              "      <th>455</th>\n",
              "      <td>2014</td>\n",
              "      <td>V</td>\n",
              "      <td>1.41</td>\n",
              "      <td>0.39</td>\n",
              "    </tr>\n",
              "    <tr>\n",
              "      <th>454</th>\n",
              "      <td>2014</td>\n",
              "      <td>U</td>\n",
              "      <td>1.97</td>\n",
              "      <td>0.49</td>\n",
              "    </tr>\n",
              "    <tr>\n",
              "      <th>453</th>\n",
              "      <td>2014</td>\n",
              "      <td>T</td>\n",
              "      <td>4.47</td>\n",
              "      <td>0.50</td>\n",
              "    </tr>\n",
              "    <tr>\n",
              "      <th>452</th>\n",
              "      <td>2014</td>\n",
              "      <td>S</td>\n",
              "      <td>1.29</td>\n",
              "      <td>0.53</td>\n",
              "    </tr>\n",
              "    <tr>\n",
              "      <th>...</th>\n",
              "      <td>...</td>\n",
              "      <td>...</td>\n",
              "      <td>...</td>\n",
              "      <td>...</td>\n",
              "    </tr>\n",
              "    <tr>\n",
              "      <th>31</th>\n",
              "      <td>2023</td>\n",
              "      <td>GG</td>\n",
              "      <td>0.38</td>\n",
              "      <td>0.18</td>\n",
              "    </tr>\n",
              "    <tr>\n",
              "      <th>30</th>\n",
              "      <td>2023</td>\n",
              "      <td>FF</td>\n",
              "      <td>0.98</td>\n",
              "      <td>0.18</td>\n",
              "    </tr>\n",
              "    <tr>\n",
              "      <th>29</th>\n",
              "      <td>2023</td>\n",
              "      <td>EE</td>\n",
              "      <td>0.46</td>\n",
              "      <td>0.18</td>\n",
              "    </tr>\n",
              "    <tr>\n",
              "      <th>27</th>\n",
              "      <td>2023</td>\n",
              "      <td>CC</td>\n",
              "      <td>0.20</td>\n",
              "      <td>0.20</td>\n",
              "    </tr>\n",
              "    <tr>\n",
              "      <th>0</th>\n",
              "      <td>2023</td>\n",
              "      <td>A</td>\n",
              "      <td>2.57</td>\n",
              "      <td>2.22</td>\n",
              "    </tr>\n",
              "  </tbody>\n",
              "</table>\n",
              "<p>473 rows × 4 columns</p>\n",
              "</div>"
            ],
            "text/plain": [
              "     Year Company code  TRIR total  LTIR total\n",
              "456  2014   W                 0.00        0.37\n",
              "455  2014   V                 1.41        0.39\n",
              "454  2014   U                 1.97        0.49\n",
              "453  2014   T                 4.47        0.50\n",
              "452  2014   S                 1.29        0.53\n",
              "..    ...          ...         ...         ...\n",
              "31   2023   GG                0.38        0.18\n",
              "30   2023   FF                0.98        0.18\n",
              "29   2023   EE                0.46        0.18\n",
              "27   2023   CC                0.20        0.20\n",
              "0    2023   A                 2.57        2.22\n",
              "\n",
              "[473 rows x 4 columns]"
            ]
          },
          "execution_count": 12,
          "metadata": {},
          "output_type": "execute_result"
        }
      ],
      "source": [
        "df_total_filtered"
      ]
    },
    {
      "cell_type": "code",
      "execution_count": null,
      "metadata": {
        "id": "uzvototfNLQN",
        "outputId": "9e54a564-b43b-49e4-b936-c9046b2071c1"
      },
      "outputs": [
        {
          "data": {
            "text/plain": [
              "Year             10\n",
              "Company code     50\n",
              "TRIR total      243\n",
              "LTIR total      121\n",
              "dtype: int64"
            ]
          },
          "execution_count": 72,
          "metadata": {},
          "output_type": "execute_result"
        }
      ],
      "source": [
        "df_total_filtered.nunique()"
      ]
    },
    {
      "cell_type": "code",
      "execution_count": null,
      "metadata": {
        "id": "cBc_OvgUNLQO",
        "outputId": "6edbee1b-403e-4812-8fa3-510b507ff42f"
      },
      "outputs": [
        {
          "data": {
            "text/plain": [
              "Year              int64\n",
              "Company code     object\n",
              "TRIR total      float64\n",
              "LTIR total      float64\n",
              "dtype: object"
            ]
          },
          "execution_count": 74,
          "metadata": {},
          "output_type": "execute_result"
        }
      ],
      "source": [
        "df_total_filtered.dtypes"
      ]
    },
    {
      "cell_type": "code",
      "execution_count": null,
      "metadata": {
        "id": "OcBCS66gNLQO",
        "outputId": "6913203a-e4a7-46d7-8833-542dfa2a681a"
      },
      "outputs": [
        {
          "name": "stdout",
          "output_type": "stream",
          "text": [
            "Company: W         \n",
            "company_df.shape: (10, 3), preds.shape: (10, 1), residuals.shape: (10, 1)\n",
            "Company: V         \n",
            "company_df.shape: (10, 3), preds.shape: (10, 1), residuals.shape: (10, 1)\n",
            "Company: U         \n",
            "company_df.shape: (9, 3), preds.shape: (10, 1), residuals.shape: (10, 1)\n",
            "Company: T         \n",
            "company_df.shape: (9, 3), preds.shape: (10, 1), residuals.shape: (10, 1)\n",
            "Company: S         \n",
            "company_df.shape: (9, 3), preds.shape: (10, 1), residuals.shape: (10, 1)\n",
            "Company: R         \n",
            "company_df.shape: (10, 3), preds.shape: (10, 1), residuals.shape: (10, 1)\n",
            "Company: Q         \n",
            "company_df.shape: (10, 3), preds.shape: (10, 1), residuals.shape: (10, 1)\n",
            "Company: P         \n",
            "company_df.shape: (10, 3), preds.shape: (10, 1), residuals.shape: (10, 1)\n",
            "Company: O         \n",
            "company_df.shape: (10, 3), preds.shape: (10, 1), residuals.shape: (10, 1)\n",
            "Company: N         \n",
            "company_df.shape: (10, 3), preds.shape: (10, 1), residuals.shape: (10, 1)\n",
            "Company: M         \n",
            "company_df.shape: (10, 3), preds.shape: (10, 1), residuals.shape: (10, 1)\n",
            "Company: L         \n",
            "company_df.shape: (10, 3), preds.shape: (10, 1), residuals.shape: (10, 1)\n",
            "Company: K         \n",
            "company_df.shape: (10, 3), preds.shape: (10, 1), residuals.shape: (10, 1)\n",
            "Company: J         \n",
            "company_df.shape: (10, 3), preds.shape: (9, 1), residuals.shape: (9, 1)\n",
            "Company: I         \n",
            "company_df.shape: (10, 3), preds.shape: (10, 1), residuals.shape: (10, 1)\n",
            "Company: H         \n",
            "company_df.shape: (10, 3), preds.shape: (10, 1), residuals.shape: (10, 1)\n",
            "Company: G         \n",
            "company_df.shape: (10, 3), preds.shape: (10, 1), residuals.shape: (10, 1)\n",
            "Company: F         \n",
            "company_df.shape: (10, 3), preds.shape: (10, 1), residuals.shape: (10, 1)\n",
            "Company: E         \n",
            "company_df.shape: (10, 3), preds.shape: (10, 1), residuals.shape: (10, 1)\n",
            "Company: D         \n",
            "company_df.shape: (10, 3), preds.shape: (9, 1), residuals.shape: (9, 1)\n",
            "Company: C         \n",
            "company_df.shape: (10, 3), preds.shape: (10, 1), residuals.shape: (10, 1)\n",
            "Company: B         \n",
            "company_df.shape: (10, 3), preds.shape: (10, 1), residuals.shape: (10, 1)\n",
            "Company: A         \n",
            "company_df.shape: (10, 3), preds.shape: (10, 1), residuals.shape: (10, 1)\n",
            "Company: Overall   \n",
            "company_df.shape: (10, 3), preds.shape: (10, 1), residuals.shape: (10, 1)\n",
            "Company: X         \n",
            "company_df.shape: (10, 3), preds.shape: (10, 1), residuals.shape: (10, 1)\n",
            "Company: AA        \n",
            "company_df.shape: (10, 3), preds.shape: (10, 1), residuals.shape: (10, 1)\n",
            "Company: Y         \n",
            "company_df.shape: (10, 3), preds.shape: (10, 1), residuals.shape: (10, 1)\n",
            "Company: WW        \n",
            "company_df.shape: (5, 3), preds.shape: (10, 1), residuals.shape: (10, 1)\n",
            "Company: VV        \n",
            "company_df.shape: (5, 3), preds.shape: (10, 1), residuals.shape: (10, 1)\n",
            "Company: UU        \n",
            "company_df.shape: (7, 3), preds.shape: (9, 1), residuals.shape: (9, 1)\n",
            "Company: TT        \n",
            "company_df.shape: (7, 3), preds.shape: (10, 1), residuals.shape: (10, 1)\n",
            "Company: SS        \n",
            "company_df.shape: (7, 3), preds.shape: (10, 1), residuals.shape: (10, 1)\n",
            "Company: RR        \n",
            "company_df.shape: (9, 3), preds.shape: (10, 1), residuals.shape: (10, 1)\n",
            "Company: QQ        \n",
            "company_df.shape: (10, 3), preds.shape: (10, 1), residuals.shape: (10, 1)\n",
            "Company: PP        \n",
            "company_df.shape: (10, 3), preds.shape: (10, 1), residuals.shape: (10, 1)\n",
            "Company: OO        \n",
            "company_df.shape: (9, 3), preds.shape: (10, 1), residuals.shape: (10, 1)\n",
            "Company: NN        \n",
            "company_df.shape: (10, 3), preds.shape: (9, 1), residuals.shape: (9, 1)\n",
            "Company: MM        \n",
            "company_df.shape: (10, 3), preds.shape: (9, 1), residuals.shape: (9, 1)\n",
            "Company: KK        \n",
            "company_df.shape: (10, 3), preds.shape: (7, 1), residuals.shape: (7, 1)\n",
            "Company: LL        \n",
            "company_df.shape: (10, 3), preds.shape: (9, 1), residuals.shape: (9, 1)\n",
            "Company: Z         \n",
            "company_df.shape: (9, 3), preds.shape: (7, 1), residuals.shape: (7, 1)\n",
            "Company: CC        \n",
            "company_df.shape: (10, 3), preds.shape: (9, 1), residuals.shape: (9, 1)\n",
            "⚠️ Warning: No predictions for Company DD        . Skipping...\n",
            "Company: EE        \n",
            "company_df.shape: (10, 3), preds.shape: (10, 1), residuals.shape: (10, 1)\n",
            "⚠️ Warning: No predictions for Company BB        . Skipping...\n",
            "Company: GG        \n",
            "company_df.shape: (9, 3), preds.shape: (10, 1), residuals.shape: (10, 1)\n",
            "⚠️ Warning: No predictions for Company HH        . Skipping...\n",
            "Company: II        \n",
            "company_df.shape: (10, 3), preds.shape: (10, 1), residuals.shape: (10, 1)\n",
            "Company: JJ        \n",
            "company_df.shape: (9, 3), preds.shape: (10, 1), residuals.shape: (10, 1)\n",
            "Company: FF        \n",
            "company_df.shape: (10, 3), preds.shape: (9, 1), residuals.shape: (9, 1)\n",
            "     Company code  TRIR total  LTIR total  Predictions  Residuals\n",
            "Year                                                             \n",
            "2014   W                 0.00        0.37     0.000000   4.340000\n",
            "2015   W                 1.41        0.38     6.510021  -2.450021\n",
            "2016   W                 1.17        0.28     3.780000  -1.330000\n",
            "2017   W                 0.76        0.25     0.840000   4.820000\n",
            "2018   W                 3.05        0.28     8.870000  -6.220000\n",
            "...           ...         ...         ...          ...        ...\n",
            "2019   FF                0.84        0.18     1.017046  -0.117046\n",
            "2020   FF                0.76        0.12     1.384425   0.585575\n",
            "2021   FF                0.49        0.14     1.902792  -1.292792\n",
            "2022   FF                0.40        0.11     1.275340  -0.455340\n",
            "2023   FF                0.98        0.18     0.660041   1.139959\n",
            "\n",
            "[431 rows x 5 columns]\n"
          ]
        }
      ],
      "source": [
        "from joblib import Parallel, delayed\n",
        "import pmdarima as pm\n",
        "import pandas as pd\n",
        "\n",
        "# Function to fit ARIMA and return model summary (for Company only)\n",
        "def fit_arima(group):\n",
        "    company = group[\"Company code\"].iloc[0]  # Extract the company name\n",
        "    ts = group[\"TRIR total\"]  # Convert to time series using the 'TRIR total' column\n",
        "\n",
        "\n",
        "    try:\n",
        "        # Fit ARIMA model\n",
        "        model = pm.auto_arima(ts, start_p=1, start_q=1, max_p=3, max_q=3, d=None,\n",
        "                              test=\"adf\", seasonal=False, trace=False, error_action=\"ignore\",\n",
        "                              suppress_warnings=True, stepwise=True)\n",
        "\n",
        "        print(f\"Successfully fitted ARIMA for {company}\")  # Add a print statement to verify success\n",
        "        # Generate predictions and residuals\n",
        "        preds = model.predict_in_sample()  # In-sample predictions\n",
        "        residuals = ts.values - preds  # Residuals (actual - predicted)\n",
        "        return company, model, preds, residuals\n",
        "\n",
        "    except Exception as e:\n",
        "        print(f\"Error fitting ARIMA for {company}: {str(e)}\")\n",
        "        return company, None, None, None\n",
        "\n",
        "\n",
        "# Debugging the fitting process and checking the data\n",
        "#print(df_total_filtered.groupby(\"Company code\")[\"Year\"].count())  # Number of rows per company\n",
        "\n",
        "from joblib import Parallel, delayed\n",
        "\n",
        "models = Parallel(n_jobs=-1)(delayed(fit_arima)(group) for _, group in df_total_filtered.groupby(\"Company code\"))\n",
        "\n",
        "final_df = pd.DataFrame()\n",
        "\n",
        "for i, company_code in enumerate(df_total_filtered[\"Company code\"].unique()):\n",
        "    company_df = df_total_filtered[df_total_filtered[\"Company code\"] == company_code]\n",
        "\n",
        "    # Check if the model produced predictions\n",
        "    if models[i][2] is None or models[i][3] is None:\n",
        "        print(f\"⚠️ Warning: No predictions for Company {company_code}. Skipping...\")\n",
        "        continue  # Skip this company\n",
        "\n",
        "    preds = models[i][2].to_frame(name=\"Predictions\")\n",
        "    residuals = models[i][3].to_frame(name=\"Residuals\")\n",
        "\n",
        "    # Ensure \"Year\" is the index\n",
        "    if \"Year\" in company_df.columns:\n",
        "        company_df = company_df.set_index(\"Year\")\n",
        "\n",
        "    # Debugging: Print shapes before fixing mismatch\n",
        "    print(f\"Company: {company_code}\")\n",
        "    print(f\"company_df.shape: {company_df.shape}, preds.shape: {preds.shape}, residuals.shape: {residuals.shape}\")\n",
        "\n",
        "    # Fix length mismatch\n",
        "    min_len = min(len(company_df), len(preds), len(residuals))\n",
        "    company_df = company_df.iloc[-min_len:]\n",
        "    preds = preds.iloc[-min_len:]\n",
        "    residuals = residuals.iloc[-min_len:]\n",
        "\n",
        "    # Assign correct index\n",
        "    preds.index = company_df.index\n",
        "    residuals.index = company_df.index\n",
        "\n",
        "    # Concatenate and append\n",
        "    final_df_rows = pd.concat([company_df, preds, residuals], axis=1)\n",
        "    final_df = pd.concat([final_df, final_df_rows], axis=0)\n",
        "\n",
        "print(final_df)\n",
        "\n"
      ]
    },
    {
      "cell_type": "code",
      "execution_count": null,
      "metadata": {
        "id": "apo-BmO6NLQQ"
      },
      "outputs": [],
      "source": [
        "final_df['Predictions'] = final_df['Predictions'].apply(lambda x: max(x, 0))"
      ]
    },
    {
      "cell_type": "code",
      "execution_count": null,
      "metadata": {
        "id": "FMseV5nGNLQQ",
        "outputId": "e9b0072d-4384-4c53-8b7a-7c9db5f9c280"
      },
      "outputs": [
        {
          "data": {
            "text/html": [
              "<div>\n",
              "<style scoped>\n",
              "    .dataframe tbody tr th:only-of-type {\n",
              "        vertical-align: middle;\n",
              "    }\n",
              "\n",
              "    .dataframe tbody tr th {\n",
              "        vertical-align: top;\n",
              "    }\n",
              "\n",
              "    .dataframe thead th {\n",
              "        text-align: right;\n",
              "    }\n",
              "</style>\n",
              "<table border=\"1\" class=\"dataframe\">\n",
              "  <thead>\n",
              "    <tr style=\"text-align: right;\">\n",
              "      <th></th>\n",
              "      <th>Company code</th>\n",
              "      <th>TRIR total</th>\n",
              "      <th>LTIR total</th>\n",
              "      <th>Predictions</th>\n",
              "      <th>Residuals</th>\n",
              "    </tr>\n",
              "    <tr>\n",
              "      <th>Year</th>\n",
              "      <th></th>\n",
              "      <th></th>\n",
              "      <th></th>\n",
              "      <th></th>\n",
              "      <th></th>\n",
              "    </tr>\n",
              "  </thead>\n",
              "  <tbody>\n",
              "    <tr>\n",
              "      <th>2014</th>\n",
              "      <td>W</td>\n",
              "      <td>0.00</td>\n",
              "      <td>0.37</td>\n",
              "      <td>0.000000</td>\n",
              "      <td>4.340000</td>\n",
              "    </tr>\n",
              "    <tr>\n",
              "      <th>2015</th>\n",
              "      <td>W</td>\n",
              "      <td>1.41</td>\n",
              "      <td>0.38</td>\n",
              "      <td>6.510021</td>\n",
              "      <td>-2.450021</td>\n",
              "    </tr>\n",
              "    <tr>\n",
              "      <th>2016</th>\n",
              "      <td>W</td>\n",
              "      <td>1.17</td>\n",
              "      <td>0.28</td>\n",
              "      <td>3.780000</td>\n",
              "      <td>-1.330000</td>\n",
              "    </tr>\n",
              "    <tr>\n",
              "      <th>2017</th>\n",
              "      <td>W</td>\n",
              "      <td>0.76</td>\n",
              "      <td>0.25</td>\n",
              "      <td>0.840000</td>\n",
              "      <td>4.820000</td>\n",
              "    </tr>\n",
              "    <tr>\n",
              "      <th>2018</th>\n",
              "      <td>W</td>\n",
              "      <td>3.05</td>\n",
              "      <td>0.28</td>\n",
              "      <td>8.870000</td>\n",
              "      <td>-6.220000</td>\n",
              "    </tr>\n",
              "    <tr>\n",
              "      <th>...</th>\n",
              "      <td>...</td>\n",
              "      <td>...</td>\n",
              "      <td>...</td>\n",
              "      <td>...</td>\n",
              "      <td>...</td>\n",
              "    </tr>\n",
              "    <tr>\n",
              "      <th>2019</th>\n",
              "      <td>FF</td>\n",
              "      <td>0.84</td>\n",
              "      <td>0.18</td>\n",
              "      <td>1.017046</td>\n",
              "      <td>-0.117046</td>\n",
              "    </tr>\n",
              "    <tr>\n",
              "      <th>2020</th>\n",
              "      <td>FF</td>\n",
              "      <td>0.76</td>\n",
              "      <td>0.12</td>\n",
              "      <td>1.384425</td>\n",
              "      <td>0.585575</td>\n",
              "    </tr>\n",
              "    <tr>\n",
              "      <th>2021</th>\n",
              "      <td>FF</td>\n",
              "      <td>0.49</td>\n",
              "      <td>0.14</td>\n",
              "      <td>1.902792</td>\n",
              "      <td>-1.292792</td>\n",
              "    </tr>\n",
              "    <tr>\n",
              "      <th>2022</th>\n",
              "      <td>FF</td>\n",
              "      <td>0.40</td>\n",
              "      <td>0.11</td>\n",
              "      <td>1.275340</td>\n",
              "      <td>-0.455340</td>\n",
              "    </tr>\n",
              "    <tr>\n",
              "      <th>2023</th>\n",
              "      <td>FF</td>\n",
              "      <td>0.98</td>\n",
              "      <td>0.18</td>\n",
              "      <td>0.660041</td>\n",
              "      <td>1.139959</td>\n",
              "    </tr>\n",
              "  </tbody>\n",
              "</table>\n",
              "<p>431 rows × 5 columns</p>\n",
              "</div>"
            ],
            "text/plain": [
              "     Company code  TRIR total  LTIR total  Predictions  Residuals\n",
              "Year                                                             \n",
              "2014   W                 0.00        0.37     0.000000   4.340000\n",
              "2015   W                 1.41        0.38     6.510021  -2.450021\n",
              "2016   W                 1.17        0.28     3.780000  -1.330000\n",
              "2017   W                 0.76        0.25     0.840000   4.820000\n",
              "2018   W                 3.05        0.28     8.870000  -6.220000\n",
              "...           ...         ...         ...          ...        ...\n",
              "2019   FF                0.84        0.18     1.017046  -0.117046\n",
              "2020   FF                0.76        0.12     1.384425   0.585575\n",
              "2021   FF                0.49        0.14     1.902792  -1.292792\n",
              "2022   FF                0.40        0.11     1.275340  -0.455340\n",
              "2023   FF                0.98        0.18     0.660041   1.139959\n",
              "\n",
              "[431 rows x 5 columns]"
            ]
          },
          "execution_count": 6,
          "metadata": {},
          "output_type": "execute_result"
        }
      ],
      "source": [
        "final_df"
      ]
    },
    {
      "cell_type": "code",
      "execution_count": null,
      "metadata": {
        "id": "fwo734UCNLQR"
      },
      "outputs": [],
      "source": [
        "## Fit ARIMA Models for each company group\n",
        "#models = Parallel(n_jobs=-1)(delayed(fit_arima)(group) for _, group in df_total_filtered.groupby(\"Company code\"))\n",
        "#\n",
        "#\n",
        "#final_df = pd.DataFrame()\n",
        "#\n",
        "#\n",
        "#for i, company_code in enumerate(df_total_filtered[\"Company code\"].unique()):\n",
        "#    company_df = df_total_filtered[df_total_filtered[\"Company code\"] == company_code]\n",
        "#    preds = models[i][2]\n",
        "#    residuals = models[i][3]\n",
        "#    final_df_rows = pd.concat([company_df, preds, residuals], axis=1, ignore_index=False)\n",
        "#    print(final_df_rows)\n",
        "#    preds = preds.to_frame(name=\"Predictions\")  # Assign a column name\n",
        "#    residuals = residuals.to_frame(name=\"Residuals\")\n",
        "#    company_df = company_df.set_index(\"Year\")\n",
        "#    preds = preds.set_index(\"Year\")\n",
        "#    residuals = residuals.set_index(\"Year\")\n",
        "#    final_df = pd.concat([final_df, final_df_rows], axis=0)\n",
        "\n"
      ]
    },
    {
      "cell_type": "markdown",
      "metadata": {
        "id": "UiZJbeq7NLQR"
      },
      "source": [
        "***LTIR Prediction***"
      ]
    },
    {
      "cell_type": "markdown",
      "metadata": {
        "id": "iuakJ1OWNLQS"
      },
      "source": [
        "**Train test split without lag**"
      ]
    },
    {
      "cell_type": "code",
      "execution_count": null,
      "metadata": {
        "id": "-_NGrns_NLQS"
      },
      "outputs": [],
      "source": [
        "# Features for model stacking: TRIR ARIMA predictions and residuals\n",
        "final_df_reset = final_df.reset_index()\n",
        "X = final_df_reset[[\"Year\", \"TRIR total\", \"Predictions\", \"Residuals\", \"Company code\"]]\n",
        "X = pd.get_dummies(X, columns=[\"Company code\"], drop_first=True)\n",
        "dummy_columns = X.columns.tolist()\n",
        "y = final_df_reset[\"LTIR total\"]  # Target\n",
        "\n",
        "X_train, X_test, y_train, y_test = train_test_split(X, y, test_size=0.2, random_state=42)\n",
        "with open(\"dummy_columns.pkl\", \"wb\") as file:\n",
        "    pickle.dump(dummy_columns, file)\n"
      ]
    },
    {
      "cell_type": "markdown",
      "metadata": {
        "id": "Xb2E_ZS4NLQS"
      },
      "source": [
        "**Model selection and evaluation only Model stacking for LTIR total, company and global**\n",
        "\n"
      ]
    },
    {
      "cell_type": "markdown",
      "metadata": {
        "id": "ccIRziVFNLQS"
      },
      "source": [
        "*Random forest*"
      ]
    },
    {
      "cell_type": "code",
      "execution_count": null,
      "metadata": {
        "id": "w-0k12zgNLQT",
        "outputId": "a12a0853-f50f-4d64-b1a5-4255164efe0e"
      },
      "outputs": [
        {
          "name": "stdout",
          "output_type": "stream",
          "text": [
            "MAE 0.20805955036586077\n",
            "RMSE 0.3260792068241495\n",
            "R2 score (Test) 0.23166593389328505\n",
            "R2 score (Train) 0.8931014652529361\n"
          ]
        },
        {
          "name": "stderr",
          "output_type": "stream",
          "text": [
            "d:\\Data_analyst\\Ironhack\\Anaconda\\Lib\\site-packages\\sklearn\\metrics\\_regression.py:483: FutureWarning: 'squared' is deprecated in version 1.4 and will be removed in 1.6. To calculate the root mean squared error, use the function'root_mean_squared_error'.\n",
            "  warnings.warn(\n"
          ]
        }
      ],
      "source": [
        "#Class model\n",
        "forest = RandomForestRegressor(n_estimators=200,\n",
        "                             max_depth=10, random_state=42)\n",
        "model_forest = forest.fit(X_train, y_train)\n",
        "pred = forest.predict(X_test)\n",
        "\n",
        "print(\"MAE\", mean_absolute_error(pred, y_test))\n",
        "print(\"RMSE\", mean_squared_error(pred, y_test, squared=False))\n",
        "print(\"R2 score (Test)\", forest.score(X_test, y_test))\n",
        "print(\"R2 score (Train)\", forest.score(X_train, y_train))"
      ]
    },
    {
      "cell_type": "markdown",
      "metadata": {
        "id": "MTvBtx_kNLQT"
      },
      "source": [
        "*Bagging and Pasting*"
      ]
    },
    {
      "cell_type": "code",
      "execution_count": null,
      "metadata": {
        "id": "ElfogguDNLQT",
        "outputId": "08f09c7e-88f1-44cf-879b-bf783b84619b"
      },
      "outputs": [
        {
          "name": "stdout",
          "output_type": "stream",
          "text": [
            "MAE 0.204528015838353\n",
            "RMSE 0.3155874066408907\n",
            "R2 score 0.28031374804877773\n"
          ]
        },
        {
          "name": "stderr",
          "output_type": "stream",
          "text": [
            "d:\\Data_analyst\\Ironhack\\Anaconda\\Lib\\site-packages\\sklearn\\metrics\\_regression.py:483: FutureWarning: 'squared' is deprecated in version 1.4 and will be removed in 1.6. To calculate the root mean squared error, use the function'root_mean_squared_error'.\n",
            "  warnings.warn(\n"
          ]
        }
      ],
      "source": [
        "bagging_reg = BaggingRegressor(DecisionTreeRegressor(max_depth=10),\n",
        "                               n_estimators=100,\n",
        "                               max_samples=100,\n",
        "                                random_state=42)#take 80% of the total samples\n",
        "\n",
        "model_bag = bagging_reg.fit(X_train, y_train)\n",
        "pred = bagging_reg.predict(X_test)\n",
        "\n",
        "print(\"MAE\", mean_absolute_error(pred, y_test))\n",
        "print(\"RMSE\", mean_squared_error(pred, y_test, squared=False))\n",
        "print(\"R2 score\", bagging_reg.score(X_test, y_test))"
      ]
    },
    {
      "cell_type": "markdown",
      "metadata": {
        "id": "did1MfTiNLQU"
      },
      "source": [
        "*Gradient Boosting*"
      ]
    },
    {
      "cell_type": "code",
      "execution_count": null,
      "metadata": {
        "id": "-UjdsrdNNLQU",
        "outputId": "8254c9b7-4a7b-4120-ebdb-114401ffac6b"
      },
      "outputs": [
        {
          "name": "stdout",
          "output_type": "stream",
          "text": [
            "(194,)\n"
          ]
        }
      ],
      "source": [
        "print(y_train.shape)  # Should print (376,) not (376, 3)\n"
      ]
    },
    {
      "cell_type": "code",
      "execution_count": null,
      "metadata": {
        "id": "Xmf6D1lhNLQV",
        "outputId": "10129ebb-9748-4261-ff27-26eb60a0b433"
      },
      "outputs": [
        {
          "name": "stdout",
          "output_type": "stream",
          "text": [
            "MAE 0.2041383199648172\n",
            "RMSE 0.3620685158638784\n",
            "R2 score 0.0527046597867592\n",
            "R2 score 0.99915642083061\n"
          ]
        },
        {
          "name": "stderr",
          "output_type": "stream",
          "text": [
            "d:\\Data_analyst\\Ironhack\\Anaconda\\Lib\\site-packages\\sklearn\\metrics\\_regression.py:483: FutureWarning: 'squared' is deprecated in version 1.4 and will be removed in 1.6. To calculate the root mean squared error, use the function'root_mean_squared_error'.\n",
            "  warnings.warn(\n"
          ]
        }
      ],
      "source": [
        "\n",
        "gb_reg = GradientBoostingRegressor(max_depth=10,\n",
        "                                   n_estimators=100,\n",
        "                                   random_state=42)\n",
        "model_gb = gb_reg.fit(X_train, y_train)\n",
        "pred = gb_reg.predict(X_test)\n",
        "\n",
        "print(\"MAE\", mean_absolute_error(pred, y_test))\n",
        "print(\"RMSE\", mean_squared_error(pred, y_test, squared=False))\n",
        "print(\"R2 score\", gb_reg.score(X_test, y_test))\n",
        "print(\"R2 score\", gb_reg.score(X_train, y_train))"
      ]
    },
    {
      "cell_type": "markdown",
      "metadata": {
        "id": "dkM7XJTANLQV"
      },
      "source": [
        "*Adaptive Boosting*"
      ]
    },
    {
      "cell_type": "code",
      "execution_count": null,
      "metadata": {
        "id": "y0qV-XOZNLQV",
        "outputId": "4a93f0d8-05d1-4fea-ad97-9d3b42b23b1c"
      },
      "outputs": [
        {
          "name": "stdout",
          "output_type": "stream",
          "text": [
            "MAE 0.21252478815983442\n",
            "RMSE 0.3263387544679752\n",
            "R2 score 0.23044231301991092\n",
            "R2 score 0.9785828010197963\n"
          ]
        },
        {
          "name": "stderr",
          "output_type": "stream",
          "text": [
            "d:\\Data_analyst\\Ironhack\\Anaconda\\Lib\\site-packages\\sklearn\\metrics\\_regression.py:483: FutureWarning: 'squared' is deprecated in version 1.4 and will be removed in 1.6. To calculate the root mean squared error, use the function'root_mean_squared_error'.\n",
            "  warnings.warn(\n"
          ]
        }
      ],
      "source": [
        "ada_reg = AdaBoostRegressor(DecisionTreeRegressor(max_depth=10),\n",
        "                            n_estimators=100,\n",
        "                            random_state=42)\n",
        "model_ada = ada_reg.fit(X_train, y_train)\n",
        "pred = ada_reg.predict(X_test)\n",
        "\n",
        "print(\"MAE\", mean_absolute_error(pred, y_test))\n",
        "print(\"RMSE\", mean_squared_error(pred, y_test, squared=False))\n",
        "print(\"R2 score\", ada_reg.score(X_test, y_test))\n",
        "print(\"R2 score\", ada_reg.score(X_train, y_train))"
      ]
    },
    {
      "cell_type": "markdown",
      "metadata": {
        "id": "p4PAywhsNLQW"
      },
      "source": [
        "**Cross validation**"
      ]
    },
    {
      "cell_type": "code",
      "execution_count": null,
      "metadata": {
        "id": "4njDkkcDNLQW",
        "outputId": "e6615308-4e33-4788-a997-4909ea87aeec"
      },
      "outputs": [
        {
          "name": "stdout",
          "output_type": "stream",
          "text": [
            "Cross-validation results for MAE: [0.2542018  0.30642994 0.62502668 0.25200593 0.14606892]\n",
            "Average MAE: 0.31674665415721176\n",
            "Standard Deviation of MAE: 0.16271270484330935\n"
          ]
        }
      ],
      "source": [
        "from sklearn.model_selection import cross_val_score\n",
        "#Let's try without lag\n",
        "X = final_df.drop(columns=['LTIR total'])  # Drop target variable\n",
        "X = pd.get_dummies(X, columns=[\"Company code\"], drop_first=True)\n",
        "y = final_df['LTIR total']  # Target variable\n",
        "\n",
        "# Instantiate the Random Forest Regressor model\n",
        "#rf = RandomForestRegressor(n_estimators=100, random_state=42)\n",
        "\n",
        "# Perform cross-validation\n",
        "cv_results = cross_val_score(model_forest, X, y, cv=5, scoring='neg_mean_absolute_error')\n",
        "\n",
        "# cv_results returns the negative of the score (since lower MAE is better)\n",
        "# Convert it back to positive values\n",
        "cv_results = -cv_results\n",
        "\n",
        "# Print the results\n",
        "print(f\"Cross-validation results for MAE: {cv_results}\")\n",
        "print(f\"Average MAE: {np.mean(cv_results)}\")\n",
        "print(f\"Standard Deviation of MAE: {np.std(cv_results)}\")"
      ]
    },
    {
      "cell_type": "markdown",
      "metadata": {
        "id": "HMLYIoZNNLQX"
      },
      "source": [
        "**Overfitting?**"
      ]
    },
    {
      "cell_type": "markdown",
      "metadata": {
        "id": "we-pzXrDNLQX"
      },
      "source": [
        "Compare MAE cross validation to train MAE\n",
        "If cross validation MAE too high compare to train MAE, model good for training sata but not for new data -> Overfitting"
      ]
    },
    {
      "cell_type": "markdown",
      "metadata": {
        "id": "6B33UyGFNLQX"
      },
      "source": [
        "**Hyper param tuning**"
      ]
    },
    {
      "cell_type": "code",
      "execution_count": null,
      "metadata": {
        "id": "TlmFXMyBNLQX"
      },
      "outputs": [],
      "source": [
        "param_grid = {\n",
        "    'n_estimators': [100, 200, 300],  # Number of trees in the forest\n",
        "    'max_depth': [10, 20, 30],  # Maximum depth of each tree\n",
        "    'min_samples_split': [2, 5, 10],  # Minimum number of samples required to split a node\n",
        "    'min_samples_leaf': [1, 2, 4],  # Minimum number of samples required at each leaf node\n",
        "    'bootstrap': [True, False]  # Whether bootstrap samples are used when building trees\n",
        "}"
      ]
    },
    {
      "cell_type": "code",
      "execution_count": null,
      "metadata": {
        "id": "nGp0jtXCNLQY",
        "outputId": "0f2796bf-58a4-4914-de78-6b8301309474"
      },
      "outputs": [
        {
          "name": "stdout",
          "output_type": "stream",
          "text": [
            "Fitting 5 folds for each of 162 candidates, totalling 810 fits\n",
            "Best Hyperparameters: {'bootstrap': True, 'max_depth': 30, 'min_samples_leaf': 1, 'min_samples_split': 10, 'n_estimators': 100}\n",
            "Best Score: 0.4413442920169559\n"
          ]
        }
      ],
      "source": [
        "from sklearn.model_selection import GridSearchCV\n",
        "from sklearn.model_selection import RandomizedSearchCV\n",
        "# Create the RandomForestRegressor model (No need for DecisionTreeRegressor here)\n",
        "random_reg = RandomForestRegressor(random_state=42)\n",
        "\n",
        "# Apply GridSearchCV for hyperparameter tuning\n",
        "model = GridSearchCV(estimator=random_reg, param_grid=param_grid, cv=5, verbose=2, n_jobs=-1)\n",
        "\n",
        "# Fit the model on your training data\n",
        "model.fit(X_train, y_train)\n",
        "\n",
        "# Print the best hyperparameters and the best score\n",
        "print(\"Best Hyperparameters:\", model.best_params_)\n",
        "print(\"Best Score:\", model.best_score_)\n",
        "\n",
        "# Get the best model and evaluate it\n",
        "best_model = model.best_estimator_\n"
      ]
    },
    {
      "cell_type": "code",
      "execution_count": null,
      "metadata": {
        "id": "9UW6xQU5NLQY",
        "outputId": "3d05c200-74a1-46f3-f7e6-24bff4d39279"
      },
      "outputs": [
        {
          "name": "stdout",
          "output_type": "stream",
          "text": [
            "MAE 0.19838473936893386\n",
            "RMSE 0.318937188499496\n",
            "R2 score (Test) 0.2649545385473334\n"
          ]
        },
        {
          "name": "stderr",
          "output_type": "stream",
          "text": [
            "d:\\Data_analyst\\Ironhack\\Anaconda\\Lib\\site-packages\\sklearn\\metrics\\_regression.py:483: FutureWarning: 'squared' is deprecated in version 1.4 and will be removed in 1.6. To calculate the root mean squared error, use the function'root_mean_squared_error'.\n",
            "  warnings.warn(\n"
          ]
        }
      ],
      "source": [
        "from sklearn.metrics import mean_absolute_error, mean_squared_error, r2_score\n",
        "\n",
        "# Assuming you already fitted your GridSearchCV model and obtained best_model\n",
        "# Get the best model after GridSearchCV\n",
        "best_model = model.best_estimator_\n",
        "\n",
        "# Now you can use the trained model to make predictions\n",
        "pred = best_model.predict(X_test)\n",
        "\n",
        "# Evaluate the model\n",
        "print(\"MAE\", mean_absolute_error(y_test, pred))\n",
        "print(\"RMSE\", mean_squared_error(y_test, pred, squared=False))\n",
        "print(\"R2 score (Test)\", r2_score(y_test, pred))\n"
      ]
    },
    {
      "cell_type": "code",
      "execution_count": null,
      "metadata": {
        "id": "RDv9Ivs0NLQk",
        "outputId": "a171364c-7e89-45a4-9683-482f4a193fe6"
      },
      "outputs": [
        {
          "data": {
            "text/html": [
              "<style>#sk-container-id-1 {\n",
              "  /* Definition of color scheme common for light and dark mode */\n",
              "  --sklearn-color-text: black;\n",
              "  --sklearn-color-line: gray;\n",
              "  /* Definition of color scheme for unfitted estimators */\n",
              "  --sklearn-color-unfitted-level-0: #fff5e6;\n",
              "  --sklearn-color-unfitted-level-1: #f6e4d2;\n",
              "  --sklearn-color-unfitted-level-2: #ffe0b3;\n",
              "  --sklearn-color-unfitted-level-3: chocolate;\n",
              "  /* Definition of color scheme for fitted estimators */\n",
              "  --sklearn-color-fitted-level-0: #f0f8ff;\n",
              "  --sklearn-color-fitted-level-1: #d4ebff;\n",
              "  --sklearn-color-fitted-level-2: #b3dbfd;\n",
              "  --sklearn-color-fitted-level-3: cornflowerblue;\n",
              "\n",
              "  /* Specific color for light theme */\n",
              "  --sklearn-color-text-on-default-background: var(--sg-text-color, var(--theme-code-foreground, var(--jp-content-font-color1, black)));\n",
              "  --sklearn-color-background: var(--sg-background-color, var(--theme-background, var(--jp-layout-color0, white)));\n",
              "  --sklearn-color-border-box: var(--sg-text-color, var(--theme-code-foreground, var(--jp-content-font-color1, black)));\n",
              "  --sklearn-color-icon: #696969;\n",
              "\n",
              "  @media (prefers-color-scheme: dark) {\n",
              "    /* Redefinition of color scheme for dark theme */\n",
              "    --sklearn-color-text-on-default-background: var(--sg-text-color, var(--theme-code-foreground, var(--jp-content-font-color1, white)));\n",
              "    --sklearn-color-background: var(--sg-background-color, var(--theme-background, var(--jp-layout-color0, #111)));\n",
              "    --sklearn-color-border-box: var(--sg-text-color, var(--theme-code-foreground, var(--jp-content-font-color1, white)));\n",
              "    --sklearn-color-icon: #878787;\n",
              "  }\n",
              "}\n",
              "\n",
              "#sk-container-id-1 {\n",
              "  color: var(--sklearn-color-text);\n",
              "}\n",
              "\n",
              "#sk-container-id-1 pre {\n",
              "  padding: 0;\n",
              "}\n",
              "\n",
              "#sk-container-id-1 input.sk-hidden--visually {\n",
              "  border: 0;\n",
              "  clip: rect(1px 1px 1px 1px);\n",
              "  clip: rect(1px, 1px, 1px, 1px);\n",
              "  height: 1px;\n",
              "  margin: -1px;\n",
              "  overflow: hidden;\n",
              "  padding: 0;\n",
              "  position: absolute;\n",
              "  width: 1px;\n",
              "}\n",
              "\n",
              "#sk-container-id-1 div.sk-dashed-wrapped {\n",
              "  border: 1px dashed var(--sklearn-color-line);\n",
              "  margin: 0 0.4em 0.5em 0.4em;\n",
              "  box-sizing: border-box;\n",
              "  padding-bottom: 0.4em;\n",
              "  background-color: var(--sklearn-color-background);\n",
              "}\n",
              "\n",
              "#sk-container-id-1 div.sk-container {\n",
              "  /* jupyter's `normalize.less` sets `[hidden] { display: none; }`\n",
              "     but bootstrap.min.css set `[hidden] { display: none !important; }`\n",
              "     so we also need the `!important` here to be able to override the\n",
              "     default hidden behavior on the sphinx rendered scikit-learn.org.\n",
              "     See: https://github.com/scikit-learn/scikit-learn/issues/21755 */\n",
              "  display: inline-block !important;\n",
              "  position: relative;\n",
              "}\n",
              "\n",
              "#sk-container-id-1 div.sk-text-repr-fallback {\n",
              "  display: none;\n",
              "}\n",
              "\n",
              "div.sk-parallel-item,\n",
              "div.sk-serial,\n",
              "div.sk-item {\n",
              "  /* draw centered vertical line to link estimators */\n",
              "  background-image: linear-gradient(var(--sklearn-color-text-on-default-background), var(--sklearn-color-text-on-default-background));\n",
              "  background-size: 2px 100%;\n",
              "  background-repeat: no-repeat;\n",
              "  background-position: center center;\n",
              "}\n",
              "\n",
              "/* Parallel-specific style estimator block */\n",
              "\n",
              "#sk-container-id-1 div.sk-parallel-item::after {\n",
              "  content: \"\";\n",
              "  width: 100%;\n",
              "  border-bottom: 2px solid var(--sklearn-color-text-on-default-background);\n",
              "  flex-grow: 1;\n",
              "}\n",
              "\n",
              "#sk-container-id-1 div.sk-parallel {\n",
              "  display: flex;\n",
              "  align-items: stretch;\n",
              "  justify-content: center;\n",
              "  background-color: var(--sklearn-color-background);\n",
              "  position: relative;\n",
              "}\n",
              "\n",
              "#sk-container-id-1 div.sk-parallel-item {\n",
              "  display: flex;\n",
              "  flex-direction: column;\n",
              "}\n",
              "\n",
              "#sk-container-id-1 div.sk-parallel-item:first-child::after {\n",
              "  align-self: flex-end;\n",
              "  width: 50%;\n",
              "}\n",
              "\n",
              "#sk-container-id-1 div.sk-parallel-item:last-child::after {\n",
              "  align-self: flex-start;\n",
              "  width: 50%;\n",
              "}\n",
              "\n",
              "#sk-container-id-1 div.sk-parallel-item:only-child::after {\n",
              "  width: 0;\n",
              "}\n",
              "\n",
              "/* Serial-specific style estimator block */\n",
              "\n",
              "#sk-container-id-1 div.sk-serial {\n",
              "  display: flex;\n",
              "  flex-direction: column;\n",
              "  align-items: center;\n",
              "  background-color: var(--sklearn-color-background);\n",
              "  padding-right: 1em;\n",
              "  padding-left: 1em;\n",
              "}\n",
              "\n",
              "\n",
              "/* Toggleable style: style used for estimator/Pipeline/ColumnTransformer box that is\n",
              "clickable and can be expanded/collapsed.\n",
              "- Pipeline and ColumnTransformer use this feature and define the default style\n",
              "- Estimators will overwrite some part of the style using the `sk-estimator` class\n",
              "*/\n",
              "\n",
              "/* Pipeline and ColumnTransformer style (default) */\n",
              "\n",
              "#sk-container-id-1 div.sk-toggleable {\n",
              "  /* Default theme specific background. It is overwritten whether we have a\n",
              "  specific estimator or a Pipeline/ColumnTransformer */\n",
              "  background-color: var(--sklearn-color-background);\n",
              "}\n",
              "\n",
              "/* Toggleable label */\n",
              "#sk-container-id-1 label.sk-toggleable__label {\n",
              "  cursor: pointer;\n",
              "  display: block;\n",
              "  width: 100%;\n",
              "  margin-bottom: 0;\n",
              "  padding: 0.5em;\n",
              "  box-sizing: border-box;\n",
              "  text-align: center;\n",
              "}\n",
              "\n",
              "#sk-container-id-1 label.sk-toggleable__label-arrow:before {\n",
              "  /* Arrow on the left of the label */\n",
              "  content: \"▸\";\n",
              "  float: left;\n",
              "  margin-right: 0.25em;\n",
              "  color: var(--sklearn-color-icon);\n",
              "}\n",
              "\n",
              "#sk-container-id-1 label.sk-toggleable__label-arrow:hover:before {\n",
              "  color: var(--sklearn-color-text);\n",
              "}\n",
              "\n",
              "/* Toggleable content - dropdown */\n",
              "\n",
              "#sk-container-id-1 div.sk-toggleable__content {\n",
              "  max-height: 0;\n",
              "  max-width: 0;\n",
              "  overflow: hidden;\n",
              "  text-align: left;\n",
              "  /* unfitted */\n",
              "  background-color: var(--sklearn-color-unfitted-level-0);\n",
              "}\n",
              "\n",
              "#sk-container-id-1 div.sk-toggleable__content.fitted {\n",
              "  /* fitted */\n",
              "  background-color: var(--sklearn-color-fitted-level-0);\n",
              "}\n",
              "\n",
              "#sk-container-id-1 div.sk-toggleable__content pre {\n",
              "  margin: 0.2em;\n",
              "  border-radius: 0.25em;\n",
              "  color: var(--sklearn-color-text);\n",
              "  /* unfitted */\n",
              "  background-color: var(--sklearn-color-unfitted-level-0);\n",
              "}\n",
              "\n",
              "#sk-container-id-1 div.sk-toggleable__content.fitted pre {\n",
              "  /* unfitted */\n",
              "  background-color: var(--sklearn-color-fitted-level-0);\n",
              "}\n",
              "\n",
              "#sk-container-id-1 input.sk-toggleable__control:checked~div.sk-toggleable__content {\n",
              "  /* Expand drop-down */\n",
              "  max-height: 200px;\n",
              "  max-width: 100%;\n",
              "  overflow: auto;\n",
              "}\n",
              "\n",
              "#sk-container-id-1 input.sk-toggleable__control:checked~label.sk-toggleable__label-arrow:before {\n",
              "  content: \"▾\";\n",
              "}\n",
              "\n",
              "/* Pipeline/ColumnTransformer-specific style */\n",
              "\n",
              "#sk-container-id-1 div.sk-label input.sk-toggleable__control:checked~label.sk-toggleable__label {\n",
              "  color: var(--sklearn-color-text);\n",
              "  background-color: var(--sklearn-color-unfitted-level-2);\n",
              "}\n",
              "\n",
              "#sk-container-id-1 div.sk-label.fitted input.sk-toggleable__control:checked~label.sk-toggleable__label {\n",
              "  background-color: var(--sklearn-color-fitted-level-2);\n",
              "}\n",
              "\n",
              "/* Estimator-specific style */\n",
              "\n",
              "/* Colorize estimator box */\n",
              "#sk-container-id-1 div.sk-estimator input.sk-toggleable__control:checked~label.sk-toggleable__label {\n",
              "  /* unfitted */\n",
              "  background-color: var(--sklearn-color-unfitted-level-2);\n",
              "}\n",
              "\n",
              "#sk-container-id-1 div.sk-estimator.fitted input.sk-toggleable__control:checked~label.sk-toggleable__label {\n",
              "  /* fitted */\n",
              "  background-color: var(--sklearn-color-fitted-level-2);\n",
              "}\n",
              "\n",
              "#sk-container-id-1 div.sk-label label.sk-toggleable__label,\n",
              "#sk-container-id-1 div.sk-label label {\n",
              "  /* The background is the default theme color */\n",
              "  color: var(--sklearn-color-text-on-default-background);\n",
              "}\n",
              "\n",
              "/* On hover, darken the color of the background */\n",
              "#sk-container-id-1 div.sk-label:hover label.sk-toggleable__label {\n",
              "  color: var(--sklearn-color-text);\n",
              "  background-color: var(--sklearn-color-unfitted-level-2);\n",
              "}\n",
              "\n",
              "/* Label box, darken color on hover, fitted */\n",
              "#sk-container-id-1 div.sk-label.fitted:hover label.sk-toggleable__label.fitted {\n",
              "  color: var(--sklearn-color-text);\n",
              "  background-color: var(--sklearn-color-fitted-level-2);\n",
              "}\n",
              "\n",
              "/* Estimator label */\n",
              "\n",
              "#sk-container-id-1 div.sk-label label {\n",
              "  font-family: monospace;\n",
              "  font-weight: bold;\n",
              "  display: inline-block;\n",
              "  line-height: 1.2em;\n",
              "}\n",
              "\n",
              "#sk-container-id-1 div.sk-label-container {\n",
              "  text-align: center;\n",
              "}\n",
              "\n",
              "/* Estimator-specific */\n",
              "#sk-container-id-1 div.sk-estimator {\n",
              "  font-family: monospace;\n",
              "  border: 1px dotted var(--sklearn-color-border-box);\n",
              "  border-radius: 0.25em;\n",
              "  box-sizing: border-box;\n",
              "  margin-bottom: 0.5em;\n",
              "  /* unfitted */\n",
              "  background-color: var(--sklearn-color-unfitted-level-0);\n",
              "}\n",
              "\n",
              "#sk-container-id-1 div.sk-estimator.fitted {\n",
              "  /* fitted */\n",
              "  background-color: var(--sklearn-color-fitted-level-0);\n",
              "}\n",
              "\n",
              "/* on hover */\n",
              "#sk-container-id-1 div.sk-estimator:hover {\n",
              "  /* unfitted */\n",
              "  background-color: var(--sklearn-color-unfitted-level-2);\n",
              "}\n",
              "\n",
              "#sk-container-id-1 div.sk-estimator.fitted:hover {\n",
              "  /* fitted */\n",
              "  background-color: var(--sklearn-color-fitted-level-2);\n",
              "}\n",
              "\n",
              "/* Specification for estimator info (e.g. \"i\" and \"?\") */\n",
              "\n",
              "/* Common style for \"i\" and \"?\" */\n",
              "\n",
              ".sk-estimator-doc-link,\n",
              "a:link.sk-estimator-doc-link,\n",
              "a:visited.sk-estimator-doc-link {\n",
              "  float: right;\n",
              "  font-size: smaller;\n",
              "  line-height: 1em;\n",
              "  font-family: monospace;\n",
              "  background-color: var(--sklearn-color-background);\n",
              "  border-radius: 1em;\n",
              "  height: 1em;\n",
              "  width: 1em;\n",
              "  text-decoration: none !important;\n",
              "  margin-left: 1ex;\n",
              "  /* unfitted */\n",
              "  border: var(--sklearn-color-unfitted-level-1) 1pt solid;\n",
              "  color: var(--sklearn-color-unfitted-level-1);\n",
              "}\n",
              "\n",
              ".sk-estimator-doc-link.fitted,\n",
              "a:link.sk-estimator-doc-link.fitted,\n",
              "a:visited.sk-estimator-doc-link.fitted {\n",
              "  /* fitted */\n",
              "  border: var(--sklearn-color-fitted-level-1) 1pt solid;\n",
              "  color: var(--sklearn-color-fitted-level-1);\n",
              "}\n",
              "\n",
              "/* On hover */\n",
              "div.sk-estimator:hover .sk-estimator-doc-link:hover,\n",
              ".sk-estimator-doc-link:hover,\n",
              "div.sk-label-container:hover .sk-estimator-doc-link:hover,\n",
              ".sk-estimator-doc-link:hover {\n",
              "  /* unfitted */\n",
              "  background-color: var(--sklearn-color-unfitted-level-3);\n",
              "  color: var(--sklearn-color-background);\n",
              "  text-decoration: none;\n",
              "}\n",
              "\n",
              "div.sk-estimator.fitted:hover .sk-estimator-doc-link.fitted:hover,\n",
              ".sk-estimator-doc-link.fitted:hover,\n",
              "div.sk-label-container:hover .sk-estimator-doc-link.fitted:hover,\n",
              ".sk-estimator-doc-link.fitted:hover {\n",
              "  /* fitted */\n",
              "  background-color: var(--sklearn-color-fitted-level-3);\n",
              "  color: var(--sklearn-color-background);\n",
              "  text-decoration: none;\n",
              "}\n",
              "\n",
              "/* Span, style for the box shown on hovering the info icon */\n",
              ".sk-estimator-doc-link span {\n",
              "  display: none;\n",
              "  z-index: 9999;\n",
              "  position: relative;\n",
              "  font-weight: normal;\n",
              "  right: .2ex;\n",
              "  padding: .5ex;\n",
              "  margin: .5ex;\n",
              "  width: min-content;\n",
              "  min-width: 20ex;\n",
              "  max-width: 50ex;\n",
              "  color: var(--sklearn-color-text);\n",
              "  box-shadow: 2pt 2pt 4pt #999;\n",
              "  /* unfitted */\n",
              "  background: var(--sklearn-color-unfitted-level-0);\n",
              "  border: .5pt solid var(--sklearn-color-unfitted-level-3);\n",
              "}\n",
              "\n",
              ".sk-estimator-doc-link.fitted span {\n",
              "  /* fitted */\n",
              "  background: var(--sklearn-color-fitted-level-0);\n",
              "  border: var(--sklearn-color-fitted-level-3);\n",
              "}\n",
              "\n",
              ".sk-estimator-doc-link:hover span {\n",
              "  display: block;\n",
              "}\n",
              "\n",
              "/* \"?\"-specific style due to the `<a>` HTML tag */\n",
              "\n",
              "#sk-container-id-1 a.estimator_doc_link {\n",
              "  float: right;\n",
              "  font-size: 1rem;\n",
              "  line-height: 1em;\n",
              "  font-family: monospace;\n",
              "  background-color: var(--sklearn-color-background);\n",
              "  border-radius: 1rem;\n",
              "  height: 1rem;\n",
              "  width: 1rem;\n",
              "  text-decoration: none;\n",
              "  /* unfitted */\n",
              "  color: var(--sklearn-color-unfitted-level-1);\n",
              "  border: var(--sklearn-color-unfitted-level-1) 1pt solid;\n",
              "}\n",
              "\n",
              "#sk-container-id-1 a.estimator_doc_link.fitted {\n",
              "  /* fitted */\n",
              "  border: var(--sklearn-color-fitted-level-1) 1pt solid;\n",
              "  color: var(--sklearn-color-fitted-level-1);\n",
              "}\n",
              "\n",
              "/* On hover */\n",
              "#sk-container-id-1 a.estimator_doc_link:hover {\n",
              "  /* unfitted */\n",
              "  background-color: var(--sklearn-color-unfitted-level-3);\n",
              "  color: var(--sklearn-color-background);\n",
              "  text-decoration: none;\n",
              "}\n",
              "\n",
              "#sk-container-id-1 a.estimator_doc_link.fitted:hover {\n",
              "  /* fitted */\n",
              "  background-color: var(--sklearn-color-fitted-level-3);\n",
              "}\n",
              "</style><div id=\"sk-container-id-1\" class=\"sk-top-container\"><div class=\"sk-text-repr-fallback\"><pre>RandomForestRegressor(max_depth=30, min_samples_split=10, random_state=42)</pre><b>In a Jupyter environment, please rerun this cell to show the HTML representation or trust the notebook. <br />On GitHub, the HTML representation is unable to render, please try loading this page with nbviewer.org.</b></div><div class=\"sk-container\" hidden><div class=\"sk-item\"><div class=\"sk-estimator fitted sk-toggleable\"><input class=\"sk-toggleable__control sk-hidden--visually\" id=\"sk-estimator-id-1\" type=\"checkbox\" checked><label for=\"sk-estimator-id-1\" class=\"sk-toggleable__label fitted sk-toggleable__label-arrow fitted\">&nbsp;&nbsp;RandomForestRegressor<a class=\"sk-estimator-doc-link fitted\" rel=\"noreferrer\" target=\"_blank\" href=\"https://scikit-learn.org/1.4/modules/generated/sklearn.ensemble.RandomForestRegressor.html\">?<span>Documentation for RandomForestRegressor</span></a><span class=\"sk-estimator-doc-link fitted\">i<span>Fitted</span></span></label><div class=\"sk-toggleable__content fitted\"><pre>RandomForestRegressor(max_depth=30, min_samples_split=10, random_state=42)</pre></div> </div></div></div></div>"
            ],
            "text/plain": [
              "RandomForestRegressor(max_depth=30, min_samples_split=10, random_state=42)"
            ]
          },
          "execution_count": 33,
          "metadata": {},
          "output_type": "execute_result"
        }
      ],
      "source": [
        "best_model"
      ]
    },
    {
      "cell_type": "markdown",
      "metadata": {
        "id": "tgMu7i0GNLQk"
      },
      "source": [
        "**Using the model for prediction**"
      ]
    },
    {
      "cell_type": "code",
      "execution_count": null,
      "metadata": {
        "id": "EaCVC3pUNLQl"
      },
      "outputs": [],
      "source": [
        "import pandas as pd\n",
        "import numpy as np\n",
        "\n",
        "# Example: Assuming your last year in the dataset is 2023\n",
        "last_year = 2023\n",
        "years_to_predict = 5  # Predict for the next 5 years\n",
        "\n",
        "# Generate the future years\n",
        "future_years = np.arange(last_year + 1, last_year + 1 + years_to_predict)\n",
        "future_companies = original_df['Company code'].unique()  # assuming 'Company code' is present"
      ]
    },
    {
      "cell_type": "code",
      "execution_count": null,
      "metadata": {
        "id": "5atTzS5NNLQl"
      },
      "outputs": [],
      "source": [
        "\n",
        "\n",
        "# Create an empty dataframe for future predictions\n",
        "future_data = []\n",
        "\n",
        "# Generate the future dataset for each company and each future year\n",
        "for company in future_companies:\n",
        "    for year in future_years:\n",
        "        future_data.append([company, year])\n",
        "\n",
        "# Convert the list to a dataframe\n",
        "future_df = pd.DataFrame(future_data, columns=[\"Company code\", \"Year\"])\n",
        "\n",
        "\n",
        "\n"
      ]
    },
    {
      "cell_type": "code",
      "execution_count": null,
      "metadata": {
        "id": "nwEdhrJuNLQm",
        "outputId": "6b95c4e6-b922-4be3-a673-17a4ea840c07"
      },
      "outputs": [
        {
          "ename": "KeyError",
          "evalue": "\"None of [Index(['Company code'], dtype='object')] are in the [columns]\"",
          "output_type": "error",
          "traceback": [
            "\u001b[1;31m---------------------------------------------------------------------------\u001b[0m",
            "\u001b[1;31mKeyError\u001b[0m                                  Traceback (most recent call last)",
            "Cell \u001b[1;32mIn[39], line 1\u001b[0m\n\u001b[1;32m----> 1\u001b[0m future_df \u001b[38;5;241m=\u001b[39m pd\u001b[38;5;241m.\u001b[39mget_dummies(future_df, columns\u001b[38;5;241m=\u001b[39m[\u001b[38;5;124m\"\u001b[39m\u001b[38;5;124mCompany code\u001b[39m\u001b[38;5;124m\"\u001b[39m], drop_first\u001b[38;5;241m=\u001b[39m\u001b[38;5;28;01mTrue\u001b[39;00m)\n\u001b[0;32m      3\u001b[0m \u001b[38;5;66;03m# If there are additional features that your model used (e.g., lagged variables), you'll need to add those to the future_df\u001b[39;00m\n\u001b[0;32m      4\u001b[0m \u001b[38;5;66;03m# For example, if you used lagged values for 'LTIR', you'd need to generate those for the future years\u001b[39;00m\n\u001b[0;32m      5\u001b[0m future_df[\u001b[38;5;124m'\u001b[39m\u001b[38;5;124mTRIR total\u001b[39m\u001b[38;5;124m'\u001b[39m] \u001b[38;5;241m=\u001b[39m np\u001b[38;5;241m.\u001b[39mnan  \u001b[38;5;66;03m# Or you could forecast this too, if needed\u001b[39;00m\n",
            "File \u001b[1;32md:\\Data_analyst\\Ironhack\\Anaconda\\Lib\\site-packages\\pandas\\core\\reshape\\encoding.py:169\u001b[0m, in \u001b[0;36mget_dummies\u001b[1;34m(data, prefix, prefix_sep, dummy_na, columns, sparse, drop_first, dtype)\u001b[0m\n\u001b[0;32m    167\u001b[0m     \u001b[38;5;28;01mraise\u001b[39;00m \u001b[38;5;167;01mTypeError\u001b[39;00m(\u001b[38;5;124m\"\u001b[39m\u001b[38;5;124mInput must be a list-like for parameter `columns`\u001b[39m\u001b[38;5;124m\"\u001b[39m)\n\u001b[0;32m    168\u001b[0m \u001b[38;5;28;01melse\u001b[39;00m:\n\u001b[1;32m--> 169\u001b[0m     data_to_encode \u001b[38;5;241m=\u001b[39m data[columns]\n\u001b[0;32m    171\u001b[0m \u001b[38;5;66;03m# validate prefixes and separator to avoid silently dropping cols\u001b[39;00m\n\u001b[0;32m    172\u001b[0m \u001b[38;5;28;01mdef\u001b[39;00m \u001b[38;5;21mcheck_len\u001b[39m(item, name: \u001b[38;5;28mstr\u001b[39m):\n",
            "File \u001b[1;32md:\\Data_analyst\\Ironhack\\Anaconda\\Lib\\site-packages\\pandas\\core\\frame.py:4108\u001b[0m, in \u001b[0;36mDataFrame.__getitem__\u001b[1;34m(self, key)\u001b[0m\n\u001b[0;32m   4106\u001b[0m     \u001b[38;5;28;01mif\u001b[39;00m is_iterator(key):\n\u001b[0;32m   4107\u001b[0m         key \u001b[38;5;241m=\u001b[39m \u001b[38;5;28mlist\u001b[39m(key)\n\u001b[1;32m-> 4108\u001b[0m     indexer \u001b[38;5;241m=\u001b[39m \u001b[38;5;28mself\u001b[39m\u001b[38;5;241m.\u001b[39mcolumns\u001b[38;5;241m.\u001b[39m_get_indexer_strict(key, \u001b[38;5;124m\"\u001b[39m\u001b[38;5;124mcolumns\u001b[39m\u001b[38;5;124m\"\u001b[39m)[\u001b[38;5;241m1\u001b[39m]\n\u001b[0;32m   4110\u001b[0m \u001b[38;5;66;03m# take() does not accept boolean indexers\u001b[39;00m\n\u001b[0;32m   4111\u001b[0m \u001b[38;5;28;01mif\u001b[39;00m \u001b[38;5;28mgetattr\u001b[39m(indexer, \u001b[38;5;124m\"\u001b[39m\u001b[38;5;124mdtype\u001b[39m\u001b[38;5;124m\"\u001b[39m, \u001b[38;5;28;01mNone\u001b[39;00m) \u001b[38;5;241m==\u001b[39m \u001b[38;5;28mbool\u001b[39m:\n",
            "File \u001b[1;32md:\\Data_analyst\\Ironhack\\Anaconda\\Lib\\site-packages\\pandas\\core\\indexes\\base.py:6200\u001b[0m, in \u001b[0;36mIndex._get_indexer_strict\u001b[1;34m(self, key, axis_name)\u001b[0m\n\u001b[0;32m   6197\u001b[0m \u001b[38;5;28;01melse\u001b[39;00m:\n\u001b[0;32m   6198\u001b[0m     keyarr, indexer, new_indexer \u001b[38;5;241m=\u001b[39m \u001b[38;5;28mself\u001b[39m\u001b[38;5;241m.\u001b[39m_reindex_non_unique(keyarr)\n\u001b[1;32m-> 6200\u001b[0m \u001b[38;5;28mself\u001b[39m\u001b[38;5;241m.\u001b[39m_raise_if_missing(keyarr, indexer, axis_name)\n\u001b[0;32m   6202\u001b[0m keyarr \u001b[38;5;241m=\u001b[39m \u001b[38;5;28mself\u001b[39m\u001b[38;5;241m.\u001b[39mtake(indexer)\n\u001b[0;32m   6203\u001b[0m \u001b[38;5;28;01mif\u001b[39;00m \u001b[38;5;28misinstance\u001b[39m(key, Index):\n\u001b[0;32m   6204\u001b[0m     \u001b[38;5;66;03m# GH 42790 - Preserve name from an Index\u001b[39;00m\n",
            "File \u001b[1;32md:\\Data_analyst\\Ironhack\\Anaconda\\Lib\\site-packages\\pandas\\core\\indexes\\base.py:6249\u001b[0m, in \u001b[0;36mIndex._raise_if_missing\u001b[1;34m(self, key, indexer, axis_name)\u001b[0m\n\u001b[0;32m   6247\u001b[0m \u001b[38;5;28;01mif\u001b[39;00m nmissing:\n\u001b[0;32m   6248\u001b[0m     \u001b[38;5;28;01mif\u001b[39;00m nmissing \u001b[38;5;241m==\u001b[39m \u001b[38;5;28mlen\u001b[39m(indexer):\n\u001b[1;32m-> 6249\u001b[0m         \u001b[38;5;28;01mraise\u001b[39;00m \u001b[38;5;167;01mKeyError\u001b[39;00m(\u001b[38;5;124mf\u001b[39m\u001b[38;5;124m\"\u001b[39m\u001b[38;5;124mNone of [\u001b[39m\u001b[38;5;132;01m{\u001b[39;00mkey\u001b[38;5;132;01m}\u001b[39;00m\u001b[38;5;124m] are in the [\u001b[39m\u001b[38;5;132;01m{\u001b[39;00maxis_name\u001b[38;5;132;01m}\u001b[39;00m\u001b[38;5;124m]\u001b[39m\u001b[38;5;124m\"\u001b[39m)\n\u001b[0;32m   6251\u001b[0m     not_found \u001b[38;5;241m=\u001b[39m \u001b[38;5;28mlist\u001b[39m(ensure_index(key)[missing_mask\u001b[38;5;241m.\u001b[39mnonzero()[\u001b[38;5;241m0\u001b[39m]]\u001b[38;5;241m.\u001b[39munique())\n\u001b[0;32m   6252\u001b[0m     \u001b[38;5;28;01mraise\u001b[39;00m \u001b[38;5;167;01mKeyError\u001b[39;00m(\u001b[38;5;124mf\u001b[39m\u001b[38;5;124m\"\u001b[39m\u001b[38;5;132;01m{\u001b[39;00mnot_found\u001b[38;5;132;01m}\u001b[39;00m\u001b[38;5;124m not in index\u001b[39m\u001b[38;5;124m\"\u001b[39m)\n",
            "\u001b[1;31mKeyError\u001b[0m: \"None of [Index(['Company code'], dtype='object')] are in the [columns]\""
          ]
        }
      ],
      "source": [
        "\n",
        "future_df = pd.get_dummies(future_df, columns=[\"Company code\"], drop_first=True)\n",
        "\n",
        "# If there are additional features that your model used (e.g., lagged variables), you'll need to add those to the future_df\n",
        "# For example, if you used lagged values for 'LTIR', you'd need to generate those for the future years\n",
        "future_df['TRIR total'] = np.nan  # Or you could forecast this too, if needed\n",
        "future_df['Predictions'] = np.nan  # Fill with NaN or predictions from ARIMA/other models\n",
        "future_df['Residuals'] = np.nan\n",
        "# Predict for the next 5 years using the trained model (RandomForestRegressor or similar)\n",
        "predictions = best_model.predict(future_df)  # Use your trained model here\n",
        "\n",
        "# Add the predictions to the future dataframe\n",
        "future_df['Predicted_LTIR'] = predictions\n",
        "\n",
        "# Print the predictions for the next 5 years\n",
        "print(future_df)"
      ]
    },
    {
      "cell_type": "markdown",
      "source": [],
      "metadata": {
        "id": "gzoEuKL6N6pY"
      }
    },
    {
      "cell_type": "code",
      "source": [
        "import pickle\n",
        "from sklearn.linear_model import LinearRegression\n",
        "import numpy as np\n",
        "\n",
        "\n",
        "\n",
        "# Save the trained model to a file\n",
        "with open(\"LTIR_prediction.pkl\", \"wb\") as file:\n",
        "    pickle.dump(best_model, file)\n",
        "\n",
        "print(\"Model saved as model.pkl\")"
      ],
      "metadata": {
        "id": "3POMZb0xN51Y"
      },
      "execution_count": null,
      "outputs": []
    }
  ],
  "metadata": {
    "kernelspec": {
      "display_name": "base",
      "language": "python",
      "name": "python3"
    },
    "language_info": {
      "codemirror_mode": {
        "name": "ipython",
        "version": 3
      },
      "file_extension": ".py",
      "mimetype": "text/x-python",
      "name": "python",
      "nbconvert_exporter": "python",
      "pygments_lexer": "ipython3",
      "version": "3.12.4"
    },
    "colab": {
      "provenance": [],
      "include_colab_link": true
    }
  },
  "nbformat": 4,
  "nbformat_minor": 0
}