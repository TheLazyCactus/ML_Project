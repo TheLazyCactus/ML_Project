{
  "nbformat": 4,
  "nbformat_minor": 0,
  "metadata": {
    "colab": {
      "provenance": [],
      "authorship_tag": "ABX9TyP60WsohzRT/t9xKmMG4Lwf",
      "include_colab_link": true
    },
    "kernelspec": {
      "name": "python3",
      "display_name": "Python 3"
    },
    "language_info": {
      "name": "python"
    }
  },
  "cells": [
    {
      "cell_type": "markdown",
      "metadata": {
        "id": "view-in-github",
        "colab_type": "text"
      },
      "source": [
        "<a href=\"https://colab.research.google.com/github/TheLazyCactus/ML_Project/blob/main/Streamlit.ipynb\" target=\"_parent\"><img src=\"https://colab.research.google.com/assets/colab-badge.svg\" alt=\"Open In Colab\"/></a>"
      ]
    },
    {
      "cell_type": "code",
      "execution_count": null,
      "metadata": {
        "id": "L6JeVH5TODxS"
      },
      "outputs": [],
      "source": [
        "import streamlit as st\n",
        "import pandas as pd\n",
        "import matplotlib.pyplot as plt\n",
        "import numpy as np\n",
        "import pickle  # Assuming the model is stored as a pickle file\n",
        "\n",
        "# Load pre-trained model (Replace 'model.pkl' with your actual model file)\n",
        "def load_model():\n",
        "    with open(\"model.pkl\", \"rb\") as file:\n",
        "        model = pickle.load(file)\n",
        "    return model\n",
        "\n",
        "# Define a short list of companies\n",
        "companies = [\"Company A\", \"Company B\", \"Company C\", \"Company D\"]\n",
        "\n",
        "# Streamlit App\n",
        "st.title(\"LTIR Prediction for the Next 5 Years\")\n",
        "\n",
        "# Dropdown to select a company\n",
        "selected_company = st.selectbox(\"Select a Company:\", companies)\n",
        "\n",
        "# Load historical data (Replace with actual data loading method)\n",
        "def load_data(company):\n",
        "    # Dummy data: replace with real historical data loading\n",
        "    np.random.seed(42)\n",
        "    past_years = np.arange(2010, 2020)\n",
        "    ltir_values = np.random.uniform(2, 5, size=len(past_years))  # Random LTIR values\n",
        "    return pd.DataFrame({\"Year\": past_years, \"LTIR\": ltir_values})\n",
        "\n",
        "# Load data for selected company\n",
        "data = load_data(selected_company)\n",
        "\n",
        "# Load model\n",
        "model = load_model()\n",
        "\n",
        "# Prepare data for prediction\n",
        "X_past = np.array(data[\"Year\"]).reshape(-1, 1)\n",
        "y_past = np.array(data[\"LTIR\"]).reshape(-1, 1)\n",
        "\n",
        "# Predict next 5 years\n",
        "future_years = np.arange(2020, 2025).reshape(-1, 1)\n",
        "predicted_ltir = model.predict(future_years)\n",
        "\n",
        "# Create a dataframe for future predictions\n",
        "future_data = pd.DataFrame({\"Year\": future_years.flatten(), \"Predicted LTIR\": predicted_ltir.flatten()})\n",
        "\n",
        "# Display predictions\n",
        "st.write(\"### Predicted LTIR for the Next 5 Years\")\n",
        "st.dataframe(future_data)\n",
        "\n",
        "# Plot trend\n",
        "fig, ax = plt.subplots()\n",
        "ax.plot(data[\"Year\"], data[\"LTIR\"], marker=\"o\", label=\"Historical LTIR\")\n",
        "ax.plot(future_data[\"Year\"], future_data[\"Predicted LTIR\"], marker=\"o\", linestyle=\"dashed\", color=\"red\", label=\"Predicted LTIR\")\n",
        "ax.set_xlabel(\"Year\")\n",
        "ax.set_ylabel(\"LTIR\")\n",
        "ax.legend()\n",
        "st.pyplot(fig)\n"
      ]
    }
  ]
}