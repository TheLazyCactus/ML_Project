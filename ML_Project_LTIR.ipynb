{
 "cells": [
  {
   "cell_type": "code",
   "execution_count": null,
   "metadata": {},
   "outputs": [],
   "source": [
    "import pandas as pd\n",
    "import numpy as np\n",
    "from sklearn.model_selection import train_test_split\n",
    "from sklearn.tree import DecisionTreeRegressor\n",
    "from sklearn.ensemble import BaggingRegressor, RandomForestRegressor,AdaBoostRegressor, GradientBoostingRegressor\n",
    "\n",
    "from sklearn.preprocessing import MinMaxScaler, StandardScaler\n",
    "from sklearn.metrics import r2_score, mean_absolute_error, mean_squared_error\n",
    "\n",
    "\n",
    "url = 'https://raw.githubusercontent.com/TheLazyCactus/ML_Project/refs/heads/main/ML_Project_safety.csv'\n",
    "df = pd.read_csv(url, sep=\";\", low_memory =False)"
   ]
  },
  {
   "cell_type": "markdown",
   "metadata": {},
   "source": [
    "Need to change the order to get the oldest value first"
   ]
  },
  {
   "cell_type": "code",
   "execution_count": null,
   "metadata": {},
   "outputs": [],
   "source": [
    "df = df.sort_values(by=\"Year\", ascending=True)\n",
    "#Drop columns\n",
    "cols_to_remove = [\"FAR\", \"TRIR total\",\"TRIR company only\", \"TRIR contractor only\", \"LTIR company only\", \"LTIR contractor only\"]\n",
    "df.drop([\"FAR total\", \"LTIR company only\",\"LTIR contractor only\",\"TRIR company only\", \"TRIR contractor only\"], axis = 1, inplace=True)\n",
    "\n",
    "df = df.drop(columns=[col for col in cols_to_remove if col in df.columns])  # List of columns to convert\n",
    "cols = [\"LTIR total\"]\n",
    "cols_to_process = [col for col in cols if col in df.columns]\n",
    "\n",
    "# Replace commas with dots and convert to float for the existing columns\n",
    "df[cols_to_process] = df[cols_to_process].replace(',', '.', regex=True).astype(float)\n",
    "df[cols] = df[cols].astype(float)\n",
    "\n",
    "df = df.fillna(0)"
   ]
  },
  {
   "cell_type": "markdown",
   "metadata": {},
   "source": [
    "EDA"
   ]
  },
  {
   "cell_type": "code",
   "execution_count": null,
   "metadata": {},
   "outputs": [],
   "source": [
    "print(df.shape)\n",
    "print(df.columns)\n",
    "print(df.dtypes)\n",
    "print(df.nunique())\n",
    "print(df.isna().sum())"
   ]
  },
  {
   "cell_type": "markdown",
   "metadata": {},
   "source": [
    "Filter to keep only the last 3 years"
   ]
  },
  {
   "cell_type": "code",
   "execution_count": null,
   "metadata": {},
   "outputs": [],
   "source": [
    "from sklearn.preprocessing import OneHotEncoder\n",
    "\n",
    "# Ensure the \"Year\" column exists and filter only the last 3 years\n",
    "year_column = \"Year\"  # Adjust this if your column name is different\n",
    "if year_column not in df.columns:\n",
    "    raise KeyError(f\"Column '{year_column}' not found. Available columns: {df.columns}\")\n",
    "\n",
    "df_filtered = df[df[year_column].isin([2020, 2021, 2022, 2023])]\n",
    "\n",
    "# Display filtered data\n",
    "print(df_filtered.head())"
   ]
  },
  {
   "cell_type": "markdown",
   "metadata": {},
   "source": [
    "Lag creation"
   ]
  },
  {
   "cell_type": "code",
   "execution_count": null,
   "metadata": {},
   "outputs": [],
   "source": [
    "# Create lag features: LTIR from the past 1 2 and 3 years\n",
    "df_filtered['LTIR_1'] = df_filtered.groupby('Company code')['LTIR total'].shift(1)\n",
    "df_filtered['LTIR_2'] = df_filtered.groupby('Company code')['LTIR total'].shift(2)\n",
    "df_filtered['LTIR_3'] = df_filtered.groupby('Company code')['LTIR total'].shift(3)\n",
    "df_filtered = df_filtered.rename(columns={\"LTIR total\": \"LTIR 2023\", \"LTIR_1\": \"LTIR 2022\", \"LTIR_2\": \"LTIR 2021\", \"LTIR_3\": \"LTIR 2020\"})\n",
    "# Drop rows with NaN values (first 2 years for each company)\n",
    "data = df_filtered.dropna().reset_index(drop=True)\n",
    "print(data)  # Fixed column name\n",
    "\n",
    "# Drop rows with NaN values due to shifting\n",
    "df_filtered = df_filtered.dropna().reset_index(drop=True)  # Ensure you are dropping from df_final, not df"
   ]
  },
  {
   "cell_type": "markdown",
   "metadata": {},
   "source": [
    "One hot encoding"
   ]
  },
  {
   "cell_type": "code",
   "execution_count": null,
   "metadata": {},
   "outputs": [],
   "source": [
    "from sklearn.preprocessing import OneHotEncoder\n",
    "\n",
    "\n",
    "# Ensure \"Company code\" exists before encoding\n",
    "company_column = \"Company code\"\n",
    "if company_column not in df_filtered.columns:\n",
    "    raise KeyError(f\"Column '{company_column}' not found. Available columns: {df_filtered.columns}\")\n",
    "\n",
    "# Initialize OneHotEncoder\n",
    "encoder = OneHotEncoder(sparse_output=False)\n",
    "\n",
    "# Fit-transform the 'Company code' column\n",
    "encoded_company = encoder.fit_transform(df_filtered[[company_column]])\n",
    "\n",
    "# Get feature names for encoded categories\n",
    "company_columns = encoder.get_feature_names_out([company_column])\n",
    "\n",
    "# Convert to DataFrame\n",
    "df_encoded = pd.DataFrame(encoded_company, columns=company_columns)\n",
    "\n",
    "# Merge encoded data back into df_filtered and drop the original \"Company code\"\n",
    "df_final = pd.concat([df_filtered.reset_index(drop=True), df_encoded], axis=1)\n",
    "df_final.drop(columns=[company_column], inplace=True, errors='ignore')\n",
    "\n",
    "import pickle\n",
    "with open('encoder.pkl', 'wb') as f:\n",
    "    pickle.dump(encoder, f)\n"
   ]
  },
  {
   "cell_type": "code",
   "execution_count": null,
   "metadata": {},
   "outputs": [],
   "source": [
    "df_final.drop(columns=[\"Year\"], inplace=True)"
   ]
  },
  {
   "cell_type": "markdown",
   "metadata": {},
   "source": [
    "**Model training**"
   ]
  },
  {
   "cell_type": "code",
   "execution_count": null,
   "metadata": {},
   "outputs": [],
   "source": [
    "import numpy as np\n",
    "import pandas as pd\n",
    "from sklearn.linear_model import LinearRegression\n",
    "\n",
    "\n",
    "# Features for initial model training\n",
    "X = df_final[['LTIR 2020', 'LTIR 2021', 'LTIR 2022']]  # Predictors\n",
    "y = df_final['LTIR 2023']  # Target variable\n",
    "\n",
    "# Train Linear Regression model\n",
    "model = LinearRegression()\n",
    "linear_reg = model.fit(X, y)\n",
    "\n",
    "# Prepare storage for future predictions\n",
    "future_data = []\n",
    "\n",
    "for _, row in df_final.iterrows():\n",
    "    # Extract relevant lag features\n",
    "    lag2 = row['LTIR 2020']\n",
    "    lag1 = row['LTIR 2021']\n",
    "    ltir_total = row['LTIR 2022']\n",
    "\n",
    "    # Predict 2024 LTIR using Lag2, Lag1, and LTIR total\n",
    "    input_2024 = pd.DataFrame([[lag2, lag1, ltir_total]], columns=['LTIR 2020', 'LTIR 2021', 'LTIR 2022'])\n",
    "    predicted_2024 = linear_reg.predict(input_2024)[0]\n",
    "\n",
    "    # Predict 2025 LTIR using Lag1, LTIR total, and predicted 2024\n",
    "    input_2025 = pd.DataFrame([[lag1, ltir_total, predicted_2024]], columns=['LTIR 2020', 'LTIR 2021', 'LTIR 2022'])\n",
    "    predicted_2025 = linear_reg.predict(input_2025)[0]\n",
    "\n",
    "    # Predict 2026 LTIR using LTIR total, predicted 2024, and predicted 2025\n",
    "    input_2026 = pd.DataFrame([[ltir_total, predicted_2024, predicted_2025]], columns=['LTIR 2020', 'LTIR 2021', 'LTIR 2022'])\n",
    "    predicted_2026 = linear_reg.predict(input_2026)[0]\n",
    "\n",
    "    # Append predictions to the future_data list\n",
    "    future_data.append([predicted_2024, predicted_2025, predicted_2026])\n",
    "\n",
    "# Convert predictions into a DataFrame\n",
    "future_df = pd.DataFrame(future_data, columns=['LTIR_4', 'LTIR_5', 'LTIR_6'])\n",
    "\n",
    "# Concatenate predictions with original dataset\n",
    "df_final = pd.concat([df_final, future_df], axis=1)\n",
    "\n",
    "# Display the updated DataFrame\n",
    "print(\"Updated DataFrame with future LTIR values:\")\n",
    "print(df_final)\n"
   ]
  },
  {
   "cell_type": "code",
   "execution_count": null,
   "metadata": {},
   "outputs": [],
   "source": [
    "df_final.to_csv(\"final_LTIR_predictions.csv\", index=False)"
   ]
  }
 ],
 "metadata": {
  "kernelspec": {
   "display_name": "base",
   "language": "python",
   "name": "python3"
  },
  "language_info": {
   "name": "python",
   "version": "3.12.4"
  }
 },
 "nbformat": 4,
 "nbformat_minor": 2
}
